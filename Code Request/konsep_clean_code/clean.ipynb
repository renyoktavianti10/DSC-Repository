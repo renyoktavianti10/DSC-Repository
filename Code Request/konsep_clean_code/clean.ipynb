{
 "cells": [
  {
   "attachments": {},
   "cell_type": "markdown",
   "metadata": {},
   "source": [
    "# Pembuatan Variable\n",
    "note: set nama variable dengan singaktan yang dimengerti programmer lain"
   ]
  },
  {
   "cell_type": "code",
   "execution_count": null,
   "metadata": {},
   "outputs": [],
   "source": [
    "import sqlite3\n",
    "conn = sqlite3.connect('database/test_autoincrement.db')\n",
    "cursorObj = conn.cursor()\n",
    "\n",
    "cursorObj.execute(\"CREATE TABLE employees(id integer PRIMARY KEY, name text, salary real, department text, position text, hiredDate text)\")\n",
    "conn.commit()\n",
    "\n",
    "entities = [('Phillip', 750, 'Finance', 'Accounting', '2016-05-12'),\n",
    "            ('Andreas', 650, 'HR', 'Admin', '2018-08-22'),\n",
    "            ('Trias', 920, 'Tech', 'Manager', '2012-01-29')]\n",
    "\n",
    "# Execute INSERT statement inside loop\n",
    "for entity in entities:\n",
    "    cursorObj.execute('''INSERT INTO employees(name, salary, department, position, hiredDate) VALUES(?, ?, ?, ?, ?)''', \n",
    "                      entity)\n",
    "    conn.commit()"
   ]
  },
  {
   "cell_type": "code",
   "execution_count": 2,
   "metadata": {},
   "outputs": [],
   "source": [
    "# tidak disarankan\n",
    "tp = 1000\n",
    "\n",
    "# direkomendasikan\n",
    "total_pegawai = 1000"
   ]
  },
  {
   "attachments": {},
   "cell_type": "markdown",
   "metadata": {},
   "source": [
    "buat variable yang konsisten dan kasih komentar buat setiap baris code"
   ]
  },
  {
   "cell_type": "code",
   "execution_count": 1,
   "metadata": {},
   "outputs": [
    {
     "ename": "AttributeError",
     "evalue": "module 'pandas' has no attribute 'read_db'",
     "output_type": "error",
     "traceback": [
      "\u001b[0;31m---------------------------------------------------------------------------\u001b[0m",
      "\u001b[0;31mAttributeError\u001b[0m                            Traceback (most recent call last)",
      "Cell \u001b[0;32mIn[1], line 8\u001b[0m\n\u001b[1;32m      5\u001b[0m \u001b[39mimport\u001b[39;00m \u001b[39msqlite3\u001b[39;00m\n\u001b[1;32m      7\u001b[0m \u001b[39m#read data\u001b[39;00m\n\u001b[0;32m----> 8\u001b[0m df \u001b[39m=\u001b[39m pd\u001b[39m.\u001b[39;49mread_db(\u001b[39m\"\u001b[39m\u001b[39m/Users/renyoktavianti/miniconda3/envs/DSC-Repository/Code Request/data.db\u001b[39m\u001b[39m\"\u001b[39m)\n\u001b[1;32m     10\u001b[0m \u001b[39m#buat koneksi database\u001b[39;00m\n\u001b[1;32m     11\u001b[0m \u001b[39m#conn = sqlite3.connect('data.db')\u001b[39;00m\n\u001b[1;32m     12\u001b[0m \n\u001b[1;32m     13\u001b[0m \u001b[39m# buat tabel didalam database, database di assign pada variable conn, isi table ga pakai index\u001b[39;00m\n\u001b[1;32m     14\u001b[0m df\u001b[39m.\u001b[39mto_sql(\u001b[39m'\u001b[39m\u001b[39mnama_table\u001b[39m\u001b[39m'\u001b[39m, conn, if_exists\u001b[39m=\u001b[39m\u001b[39m'\u001b[39m\u001b[39mreplace\u001b[39m\u001b[39m'\u001b[39m, index\u001b[39m=\u001b[39m\u001b[39mFalse\u001b[39;00m)\n",
      "File \u001b[0;32m~/miniconda3/lib/python3.9/site-packages/pandas/__init__.py:264\u001b[0m, in \u001b[0;36m__getattr__\u001b[0;34m(name)\u001b[0m\n\u001b[1;32m    260\u001b[0m     \u001b[39mfrom\u001b[39;00m \u001b[39mpandas\u001b[39;00m\u001b[39m.\u001b[39;00m\u001b[39mcore\u001b[39;00m\u001b[39m.\u001b[39;00m\u001b[39marrays\u001b[39;00m\u001b[39m.\u001b[39;00m\u001b[39msparse\u001b[39;00m \u001b[39mimport\u001b[39;00m SparseArray \u001b[39mas\u001b[39;00m _SparseArray\n\u001b[1;32m    262\u001b[0m     \u001b[39mreturn\u001b[39;00m _SparseArray\n\u001b[0;32m--> 264\u001b[0m \u001b[39mraise\u001b[39;00m \u001b[39mAttributeError\u001b[39;00m(\u001b[39mf\u001b[39m\u001b[39m\"\u001b[39m\u001b[39mmodule \u001b[39m\u001b[39m'\u001b[39m\u001b[39mpandas\u001b[39m\u001b[39m'\u001b[39m\u001b[39m has no attribute \u001b[39m\u001b[39m'\u001b[39m\u001b[39m{\u001b[39;00mname\u001b[39m}\u001b[39;00m\u001b[39m'\u001b[39m\u001b[39m\"\u001b[39m)\n",
      "\u001b[0;31mAttributeError\u001b[0m: module 'pandas' has no attribute 'read_db'"
     ]
    }
   ],
   "source": [
    "# import library dataframe\n",
    "import pandas as pd\n",
    "\n",
    "#library konektor sqlite\n",
    "import sqlite3\n",
    "\n",
    "#read data\n",
    "df = pd.read_csv(\"/Users/renyoktavianti/miniconda3/envs/DSC-Repository/Code Request/data.db\")\n",
    "\n",
    "#buat koneksi database\n",
    "conn = sqlite3.connect('data.db')\n",
    "\n",
    "# buat tabel didalam database, database di assign pada variable conn, isi table ga pakai index\n",
    "df.to_sql('nama_table', conn, if_exists='replace', index=False)\n",
    "\n",
    "# tutup koneksi db\n",
    "conn.close()"
   ]
  },
  {
   "cell_type": "code",
   "execution_count": null,
   "metadata": {},
   "outputs": [],
   "source": [
    "# tidak disarankan\n",
    "c = [\"UK\", \"USA\", \"UAE\"]\n",
    "\n",
    "for x in c:\n",
    "    print(x)\n",
    "\n",
    "\n",
    "\"\"\"\n",
    "proses looping\n",
    "variable cities merupakan kode nama negara dengan tipe list\n",
    "UK : United Kingdom\n",
    "USA: United States\n",
    "IDN: Indonesia\n",
    "ZBW : Zimbabwe\n",
    "\n",
    "variable city akan menampung values dari variable cities\n",
    "proses looping ini akan menampilkan keluaran kode nama negara\n",
    "\"\"\"\n",
    "\n",
    "# direkomendasikan\n",
    "cities = [\"UK\", \"USA\", \"IDN\", \"ZBW\"]\n",
    "for city in cities:\n",
    "    print(city)\n"
   ]
  },
  {
   "attachments": {},
   "cell_type": "markdown",
   "metadata": {},
   "source": [
    "Hilangkan ambigu"
   ]
  },
  {
   "cell_type": "code",
   "execution_count": null,
   "metadata": {},
   "outputs": [],
   "source": [
    "# tidak disarankan\n",
    "fn = 'Fuguh'\n",
    "Ln = 'Budi'\n",
    "cre_tmstp = 1621535852\n",
    "\n",
    "# disarankan\n",
    "first_name = 'Fuguh'\n",
    "Las_name = 'Budi'"
   ]
  },
  {
   "attachments": {},
   "cell_type": "markdown",
   "metadata": {},
   "source": [
    "Ketika membuat fungsi, buatlah fokus pada 1 proses fungsi saja, jangan digabung dengan berbagai macam fungsi"
   ]
  },
  {
   "cell_type": "code",
   "execution_count": null,
   "metadata": {},
   "outputs": [],
   "source": [
    "# Not recommended\n",
    "def fetch_and_display_users():\n",
    "    users = [] # result from some api call\n",
    "\n",
    "    for user in users:\n",
    "        print(user)\n",
    "\n",
    "    return user\n",
    "\n",
    "# Recommended\n",
    "def fetch_users():\n",
    "    users = [] # menampung hasil data dari get API\n",
    "    return users\n",
    "\n",
    "def display_users(users):\n",
    "    for user in users:\n",
    "        print(user)"
   ]
  },
  {
   "attachments": {},
   "cell_type": "markdown",
   "metadata": {},
   "source": [
    "Jangan membuat redundant/duplikasi"
   ]
  },
  {
   "cell_type": "code",
   "execution_count": null,
   "metadata": {},
   "outputs": [],
   "source": [
    "# tidak direkomendasikan\n",
    "class Person:\n",
    "    def __init__(self, person_username, person_email, person_phone, person_address):\n",
    "        self.person_username = person_username\n",
    "        self.person_email = person_email\n",
    "        self.person_phone = person_phone\n",
    "        self.person_address = person_address\n",
    "\n",
    "# direkomendasikan\n",
    "class Person:\n",
    "    def __init__(self, username, email, phone, address):\n",
    "        self.username = username\n",
    "        self.email = email\n",
    "        self.phone = phone\n",
    "        self.address = address"
   ]
  }
 ],
 "metadata": {
  "kernelspec": {
   "display_name": "base",
   "language": "python",
   "name": "python3"
  },
  "language_info": {
   "codemirror_mode": {
    "name": "ipython",
    "version": 3
   },
   "file_extension": ".py",
   "mimetype": "text/x-python",
   "name": "python",
   "nbconvert_exporter": "python",
   "pygments_lexer": "ipython3",
   "version": "3.9.15"
  },
  "orig_nbformat": 4,
  "vscode": {
   "interpreter": {
    "hash": "30c09491f87e3dd016f780d88cc71ddc8784020737d635e0d66e623df59197b1"
   }
  }
 },
 "nbformat": 4,
 "nbformat_minor": 2
}
