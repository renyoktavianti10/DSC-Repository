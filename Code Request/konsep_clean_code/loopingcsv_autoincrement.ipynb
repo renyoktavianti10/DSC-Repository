{
 "cells": [
  {
   "attachments": {},
   "cell_type": "markdown",
   "metadata": {},
   "source": [
    "## Read csv column with looping"
   ]
  },
  {
   "cell_type": "code",
   "execution_count": null,
   "metadata": {},
   "outputs": [],
   "source": [
    "abusive_list = abusive_df['ABUSIVE'].tolist()\n",
    "\n",
    "abusive_arr = []\n",
    "\n",
    "for i, abusive_df in enumerate(abusive_list):\n",
    "    abusive_arr.append(abusive_df)\n",
    "\n",
    "print(abusive_arr)"
   ]
  },
  {
   "attachments": {},
   "cell_type": "markdown",
   "metadata": {},
   "source": [
    "## Auto increment SQLite"
   ]
  },
  {
   "cell_type": "code",
   "execution_count": null,
   "metadata": {},
   "outputs": [],
   "source": [
    "import sqlite3\n",
    "conn = sqlite3.connect('database/test_autoincrement.db')\n",
    "cursorobj = conn.cursor()\n",
    "\n",
    "cursorobj.execute(\"CREATE TABLE employees(id integer PRIMARY KEY, name text, salary real, department txt, position text, hiredDate text)\")\n",
    "conn.commit()\n",
    "\n",
    "entities = [('Phillip', 750, 'Finance', 'Accounting', '2016-05-12'),\n",
    "            ('Andreas', 650, 'HR', 'Admin', '2018-08-22'),\n",
    "            ('Trias', 920, 'Tech', 'Manager', '2012-01-29')]\n",
    "\n",
    "# Execute INSERT statement inside loop\n",
    "for entity in entities:\n",
    "    cursorobj.execute('''INSERT INTO employees(name, salary, department, position, hiredDate) VALUES(?, ?, ?, ?, ?)''', \n",
    "                      entity)\n",
    "    conn.commit()"
   ]
  }
 ],
 "metadata": {
  "kernelspec": {
   "display_name": "base",
   "language": "python",
   "name": "python3"
  },
  "language_info": {
   "codemirror_mode": {
    "name": "ipython",
    "version": 3
   },
   "file_extension": ".py",
   "mimetype": "text/x-python",
   "name": "python",
   "nbconvert_exporter": "python",
   "pygments_lexer": "ipython3",
   "version": "3.9.15 (main, Nov 24 2022, 08:29:02) \n[Clang 14.0.6 ]"
  },
  "orig_nbformat": 4,
  "vscode": {
   "interpreter": {
    "hash": "30c09491f87e3dd016f780d88cc71ddc8784020737d635e0d66e623df59197b1"
   }
  }
 },
 "nbformat": 4,
 "nbformat_minor": 2
}
