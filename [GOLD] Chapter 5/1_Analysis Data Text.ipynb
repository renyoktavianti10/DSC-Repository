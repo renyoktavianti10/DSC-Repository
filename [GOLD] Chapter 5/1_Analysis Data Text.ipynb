{
 "cells": [
  {
   "attachments": {},
   "cell_type": "markdown",
   "metadata": {},
   "source": [
    "# Analysis Data Text"
   ]
  },
  {
   "attachments": {},
   "cell_type": "markdown",
   "metadata": {},
   "source": [
    "# Import Library"
   ]
  },
  {
   "cell_type": "code",
   "execution_count": 1,
   "metadata": {},
   "outputs": [],
   "source": [
    "import pandas as pd\n",
    "import seaborn as sns\n",
    "import matplotlib.pyplot as plt"
   ]
  },
  {
   "attachments": {},
   "cell_type": "markdown",
   "metadata": {},
   "source": [
    "# Data Preparation"
   ]
  },
  {
   "attachments": {},
   "cell_type": "markdown",
   "metadata": {},
   "source": [
    "## Load Data\n",
    "\n",
    "Load data **`indonlu_smsa_doc-sentiment-prosa.tsv`** with column **text** and **label**"
   ]
  },
  {
   "cell_type": "code",
   "execution_count": null,
   "metadata": {},
   "outputs": [],
   "source": []
  },
  {
   "attachments": {},
   "cell_type": "markdown",
   "metadata": {},
   "source": [
    "Terlebih dahulu kita mengecek data yang akan kita proses sebelum dilakukan analisis"
   ]
  },
  {
   "attachments": {},
   "cell_type": "markdown",
   "metadata": {},
   "source": [
    "## Cek data 5 teratas dan terbawah"
   ]
  },
  {
   "cell_type": "code",
   "execution_count": null,
   "metadata": {},
   "outputs": [],
   "source": []
  },
  {
   "cell_type": "code",
   "execution_count": null,
   "metadata": {},
   "outputs": [],
   "source": []
  },
  {
   "attachments": {},
   "cell_type": "markdown",
   "metadata": {},
   "source": [
    "## Cek jumlah kolom dan total data"
   ]
  },
  {
   "attachments": {},
   "cell_type": "markdown",
   "metadata": {},
   "source": [
    "Data yang diolah memiliki 2 kolom dan total data 11000"
   ]
  },
  {
   "cell_type": "code",
   "execution_count": null,
   "metadata": {},
   "outputs": [],
   "source": []
  },
  {
   "attachments": {},
   "cell_type": "markdown",
   "metadata": {},
   "source": [
    "## Cek total duplikat data"
   ]
  },
  {
   "attachments": {},
   "cell_type": "markdown",
   "metadata": {},
   "source": [
    "Total data yang duplikat sejumlah 67"
   ]
  },
  {
   "cell_type": "code",
   "execution_count": null,
   "metadata": {},
   "outputs": [],
   "source": []
  },
  {
   "attachments": {},
   "cell_type": "markdown",
   "metadata": {},
   "source": [
    "Menghilangkan data yang duplikat"
   ]
  },
  {
   "cell_type": "code",
   "execution_count": null,
   "metadata": {},
   "outputs": [],
   "source": []
  },
  {
   "cell_type": "code",
   "execution_count": null,
   "metadata": {},
   "outputs": [],
   "source": []
  },
  {
   "cell_type": "code",
   "execution_count": null,
   "metadata": {},
   "outputs": [],
   "source": []
  },
  {
   "attachments": {},
   "cell_type": "markdown",
   "metadata": {},
   "source": [
    "Cek total data yang duplikat. Hasilnya data yang duplikat sudah tidak ada."
   ]
  },
  {
   "cell_type": "code",
   "execution_count": null,
   "metadata": {},
   "outputs": [],
   "source": []
  },
  {
   "cell_type": "code",
   "execution_count": null,
   "metadata": {},
   "outputs": [],
   "source": []
  },
  {
   "cell_type": "code",
   "execution_count": null,
   "metadata": {},
   "outputs": [],
   "source": []
  },
  {
   "cell_type": "code",
   "execution_count": null,
   "metadata": {},
   "outputs": [],
   "source": []
  },
  {
   "attachments": {},
   "cell_type": "markdown",
   "metadata": {},
   "source": [
    "## Cek Missing Values"
   ]
  },
  {
   "attachments": {},
   "cell_type": "markdown",
   "metadata": {},
   "source": [
    "Jalankan perintah di bawah untuk mendeteksi missing values."
   ]
  },
  {
   "cell_type": "code",
   "execution_count": null,
   "metadata": {},
   "outputs": [],
   "source": []
  },
  {
   "attachments": {},
   "cell_type": "markdown",
   "metadata": {},
   "source": [
    "Jalankan perintah untuk melihat persentase missing values dari setiap kolom. \n",
    "\n",
    "Terlihat pada setiap kolom memiliki persentase 0. Ini menandakan data kita aman dari missing values"
   ]
  },
  {
   "cell_type": "code",
   "execution_count": null,
   "metadata": {},
   "outputs": [],
   "source": []
  },
  {
   "cell_type": "code",
   "execution_count": null,
   "metadata": {},
   "outputs": [],
   "source": []
  },
  {
   "cell_type": "code",
   "execution_count": null,
   "metadata": {},
   "outputs": [],
   "source": []
  },
  {
   "attachments": {},
   "cell_type": "markdown",
   "metadata": {},
   "source": [
    "Cek kondisi data terakhir"
   ]
  },
  {
   "cell_type": "code",
   "execution_count": null,
   "metadata": {},
   "outputs": [],
   "source": []
  },
  {
   "cell_type": "code",
   "execution_count": null,
   "metadata": {},
   "outputs": [],
   "source": []
  },
  {
   "attachments": {},
   "cell_type": "markdown",
   "metadata": {},
   "source": [
    "## Buat kolom baru bernama \"total_char\" berisi panjang karakter dari setiap teks."
   ]
  },
  {
   "cell_type": "code",
   "execution_count": null,
   "metadata": {},
   "outputs": [],
   "source": []
  },
  {
   "attachments": {},
   "cell_type": "markdown",
   "metadata": {},
   "source": [
    "Cek 5 data teratas lagi. Terlihat sekarang sudah ada kolom \"total_char\" yang berisi masing-masing panjang karakter dari setiap teks.\n"
   ]
  },
  {
   "cell_type": "code",
   "execution_count": null,
   "metadata": {},
   "outputs": [],
   "source": []
  },
  {
   "cell_type": "code",
   "execution_count": null,
   "metadata": {},
   "outputs": [],
   "source": []
  },
  {
   "attachments": {},
   "cell_type": "markdown",
   "metadata": {},
   "source": [
    "## Buat kolom baru bernama \"total_word\" berisi banyaknya kata dari setiap teks."
   ]
  },
  {
   "attachments": {},
   "cell_type": "markdown",
   "metadata": {},
   "source": [
    "Cek 5 data teratas lagi. Terlihat sekarang sudah ada kolom \"total_word\" yang berisi masing-masing panjang kata dari setiap teks."
   ]
  },
  {
   "cell_type": "code",
   "execution_count": null,
   "metadata": {},
   "outputs": [],
   "source": []
  },
  {
   "cell_type": "code",
   "execution_count": null,
   "metadata": {},
   "outputs": [],
   "source": [
    "# Cek data teratas\n"
   ]
  },
  {
   "attachments": {},
   "cell_type": "markdown",
   "metadata": {},
   "source": [
    "# Analyze\n",
    "\n",
    "Descriptive Analytic dalam kasus teks sering disebut Exploratory Data Analysis (EDA). EDA secara sederhana bisa dimaknai sebagai proses untuk memahami data sebelum diproses untuk tujuan tertentu atau langkah selanjutnya.\n",
    "\n",
    "Apakah proses akan berhenti dalam tahap EDA atau tidak tergantung Problem Definition yang sudah kita tentukan sebelumnya.\n",
    "\n",
    "Berdasarkan variabel (kolom) yang diproses, EDA bisa dibagi sebagai berikut:\n",
    "\n",
    "\n",
    "*   Univariat Analysis: Analisis dengan melibatkan satu variabel\n",
    "*   Bivariat Analysis: Analisis dengan melibatkan dua variabel:\n",
    "*   Multivariat Analysis: Analisis dengan melibatkan lebih dari dua variabel. \n",
    "\n",
    "Dari jenis analisis di atas tidak semua harus dilakukan. Lagi-lagi tergantung Problem Definition dan karaktistik data yang kita miliki.\n",
    "\n"
   ]
  },
  {
   "attachments": {},
   "cell_type": "markdown",
   "metadata": {},
   "source": [
    "## Univariate Analysis"
   ]
  },
  {
   "attachments": {},
   "cell_type": "markdown",
   "metadata": {},
   "source": [
    "### Descriptive Statistic"
   ]
  },
  {
   "attachments": {},
   "cell_type": "markdown",
   "metadata": {},
   "source": [
    "Untuk mengeksplorasi data kita bisa menggunakan ilmu Statistika Deskriptif. Terkait Statistik Deskriptif bisa kita pelajari lebih dalam pada chapter selanjutnya.\n",
    "\n",
    "Menurut Statistika Deskriptif, ada 3 cara untuk mendeskripsikan data:\n",
    "\n",
    "* Measures of Central Tendency\n",
    "   * Mean\n",
    "   * Median\n",
    "   * Mode\n",
    "* Measures of Spread\n",
    "   * Range\n",
    "   * Quartile dan Interquartile Range\n",
    "   * Variance\n",
    "   * Standard deviasi\n",
    "* Measures to Describe Shape of Distribution\n",
    "   * Skewness\n",
    "   * Kurtosis"
   ]
  },
  {
   "attachments": {},
   "cell_type": "markdown",
   "metadata": {},
   "source": [
    "#### Measures of Central Tendency\n",
    "Merupakan suatu cara untuk mendeskripsikan posisi tengah dari distribusi frekuensi pada suatu kelompok"
   ]
  },
  {
   "attachments": {},
   "cell_type": "markdown",
   "metadata": {},
   "source": [
    "##### Mean\n",
    "\n",
    "Digunakan untuk mencari rata-rata dari kolom/variabel yang bertipe numerical.\n",
    "\n",
    "Pada hasil berikut mean \"total_char\" memiliki rata-rata panjang karakter 189.6, sedangkan \"total_word\" memiliki rata-rata 33.0 kata."
   ]
  },
  {
   "cell_type": "code",
   "execution_count": null,
   "metadata": {},
   "outputs": [],
   "source": []
  },
  {
   "attachments": {},
   "cell_type": "markdown",
   "metadata": {},
   "source": [
    "##### Median\n",
    "\n",
    "Digunakan untuk mencari nilai tengah dari suatu data numerical yang diurutkan. Jika jumlah data ganjil, maka nilai median tepat berada tengah dari data, sedangkan apabila genap maka nilai median berada diantara kedua nilai yang berada ditengah.\n",
    "\n",
    "Pada hasil berikut median \"total_char\" memiliki nilai tengah panjang karakter 161.0, sedangkan \"total_word\" memiliki nilai tengah 28.0 kata."
   ]
  },
  {
   "cell_type": "code",
   "execution_count": null,
   "metadata": {},
   "outputs": [],
   "source": []
  },
  {
   "attachments": {},
   "cell_type": "markdown",
   "metadata": {},
   "source": [
    "##### Mode\n",
    "\n",
    "Digunakan untuk mencari frekuensi data yang paling sering muncul.\n",
    "\n",
    "Pada hasil berikut mode \"total_char\" memiliki frekuensi yang paling sering muncul yakni panjang karakter 120, sedangkan \"total_word\" memiliki frekuensi yang paling sering muncul 10 kata."
   ]
  },
  {
   "cell_type": "code",
   "execution_count": null,
   "metadata": {},
   "outputs": [],
   "source": []
  },
  {
   "cell_type": "code",
   "execution_count": null,
   "metadata": {},
   "outputs": [],
   "source": []
  },
  {
   "cell_type": "code",
   "execution_count": null,
   "metadata": {},
   "outputs": [],
   "source": []
  },
  {
   "attachments": {},
   "cell_type": "markdown",
   "metadata": {},
   "source": [
    "#### Measures of Spread\n",
    "Merupakan suatu cara untuk mendeskripsikan seberapa menyebar data yang ada."
   ]
  },
  {
   "attachments": {},
   "cell_type": "markdown",
   "metadata": {},
   "source": [
    "##### Range\n",
    "\n",
    "Digunakan untuk mencari perbedaan antara nilai terbesar dengan nilai terkecil pada data.\n",
    "\n",
    "Pada hasil berikut range \"total_char\" memiliki perbedaan sebesar 564, sedangkan \"total_word\" memiliki perbedaan sebesar 109 kata."
   ]
  },
  {
   "cell_type": "code",
   "execution_count": null,
   "metadata": {},
   "outputs": [],
   "source": []
  },
  {
   "cell_type": "code",
   "execution_count": null,
   "metadata": {},
   "outputs": [],
   "source": []
  },
  {
   "attachments": {},
   "cell_type": "markdown",
   "metadata": {},
   "source": [
    "##### Quartile dan IQR\n",
    "\n",
    "Digunakan ketika data dibagi menjadi 4 bagian (25%). Terdapat 3 jenis Quartile yaitu Q1 yang merupakan nilai antara median dengan data terkecil, Q2 yang merupakan Median data, dan Q3 adalah nilai antara median dengan data terbesar.\n",
    "\n",
    "Nilai Quartile selanjutnya dikombinasikan dengan nilai Interquartile Range (IQR). Untuk menghasil IQR kita dapat mengurangi Q3 dengan Q1. Dari IRQ kita dapat menemukan batas atas dan batas bawah dari sebuah data."
   ]
  },
  {
   "attachments": {},
   "cell_type": "markdown",
   "metadata": {},
   "source": [
    "Hasil dibawah menunjukkan nilai sisi bawah dari \"total_char\" tidak memiliki outlier, sedangkan sisi atas dari \"total_char\" memiliki outlier."
   ]
  },
  {
   "cell_type": "code",
   "execution_count": null,
   "metadata": {},
   "outputs": [],
   "source": [
    "# Cari nilai minimum\n",
    "\n",
    "\n",
    "# Cari nilai maksimum\n",
    "\n",
    "\n",
    "# Cari Quartile 1\n",
    "\n",
    "\n",
    "# Cari Quartile 2\n",
    "\n",
    "\n",
    "# Cari Quartile 3\n",
    "\n",
    "\n",
    "# Cari IQR\n",
    "\n",
    "\n",
    "# Cari batas bawah\n",
    "\n",
    "\n",
    "# Cari batas atas\n",
    "\n",
    "\n",
    "# Cek apakah ada outlier dari batas bawah\n",
    "\n",
    "\n",
    "\n",
    "# Cek apa ada outlier dari batas atas\n",
    "\n"
   ]
  },
  {
   "attachments": {},
   "cell_type": "markdown",
   "metadata": {},
   "source": [
    "Hasil dibawah menunjukkan nilai sisi bawah dari \"total_word\" tidak memiliki outlier, sedangkan sisi atas dari \"total_word\" memiliki outlier."
   ]
  },
  {
   "cell_type": "code",
   "execution_count": null,
   "metadata": {},
   "outputs": [],
   "source": [
    "# Cari nilai minimum\n",
    "\n",
    "\n",
    "# Cari nilai maksimum\n",
    "\n",
    "\n",
    "# Cari Quartile 1\n",
    "\n",
    "\n",
    "# Cari Quartile 2\n",
    "\n",
    "\n",
    "# Cari Quartile 3\n",
    "\n",
    "\n",
    "# Cari IQR\n",
    "\n",
    "\n",
    "# Cari batas bawah\n",
    "\n",
    "\n",
    "# Cari batas atas\n",
    "\n",
    "\n",
    "# Cek apakah ada outlier dari batas bawah\n",
    "\n",
    "\n",
    "\n",
    "# Cek apa ada outlier dari batas atas\n",
    "\n"
   ]
  },
  {
   "attachments": {},
   "cell_type": "markdown",
   "metadata": {},
   "source": [
    "##### Variance\n",
    "\n",
    "Digunakan untuk mengukur seberapa menyebar data yang ada dari mean-nya. Jika nilai variance dari suatu variabel/kolom lebih besar atau lebih kecil mean, maka nilai dari suatu variabel/kolom tersebut menjauhi mean.\n",
    "\n",
    "Nilai variance dari \"total_char\" sebesar \"14600.7\" menjauhi (lebih dari) dari nilai mean dari \"total_char\" sebesar \"189.614561\".\n",
    "\n",
    "Nilai variance dari \"total_word\" sebesar \"446.9\" menjauhi (lebih dari) dari nilai mean dari \"total_word\" sebesar \"33.0\"."
   ]
  },
  {
   "cell_type": "code",
   "execution_count": null,
   "metadata": {},
   "outputs": [],
   "source": []
  },
  {
   "attachments": {},
   "cell_type": "markdown",
   "metadata": {},
   "source": [
    "##### Standard Deviation\n",
    "\n",
    "Digunakan untuk mengukur penyebaran observasi dalam kumpulan data relatif terhadap rata-ratanya. Jika nilai standard deviation dari suatu variabel/kolom lebih besar atau lebih kecil mean, maka data dari suatu variabel/kolom tersebut menjauhi mean.\n",
    "\n",
    "Nilai standard deviation dari \"total_char\" sebesar \"14600.7\" menjauhi (lebih dari) dari nilai mean dari \"total_char\" sebesar \"189.614561\".\n",
    "\n",
    "Nilai standard deviation dari \"total_word\" sebesar \"446.9\" menjauhi (lebih dari) dari nilai mean dari \"total_word\" sebesar \"33.0\"."
   ]
  },
  {
   "cell_type": "code",
   "execution_count": null,
   "metadata": {},
   "outputs": [],
   "source": []
  },
  {
   "attachments": {},
   "cell_type": "markdown",
   "metadata": {},
   "source": [
    "#### Measures of Describe Shape of Distribution\n",
    "Merupakan suatu cara untuk mendeskripsikan distribusi data berdasarkan suatu grafik."
   ]
  },
  {
   "attachments": {},
   "cell_type": "markdown",
   "metadata": {},
   "source": [
    "##### Skewness\n",
    "Merupakan suatu cara untuk mengukur ketidaksimetrisan suatu distribusi nilai.\n",
    "\n",
    "*   Apabila nilai skewness = 0, maka menunjukkan data berdistribusi normal.\n",
    "*   Apabila nilai skewness < 0, maka menunjukkan skewness bernilai negatif.\n",
    "*   Apabila nilai skewness > 0, maka menunjukkan skewness bernilai positif.\n",
    "\n",
    "Jika kita melihat hasil di bawah nilai skewness pada \"total_char\" dan \"total_word\" bernilai positif."
   ]
  },
  {
   "cell_type": "code",
   "execution_count": null,
   "metadata": {},
   "outputs": [],
   "source": []
  },
  {
   "attachments": {},
   "cell_type": "markdown",
   "metadata": {},
   "source": [
    "##### Kurtosis\n",
    "Merupakan suatu cara untuk menunjukan derajat keruncingan, semakin besar nilai kurtosis maka kurva semakin runcing.\n",
    "\n",
    "Kurtosis memiliki kondisi sebagai berikut:\n",
    "\n",
    "*   Kurtosis yang memiliki nilai 3 berarti memiliki Distribusi Normal\n",
    "*   Jika nilai Kurtosis kurang dari 3, dikatakan bersifat playkurtik, yang berarti cenderung menghasilkan lebih sedikit nilai outlier.\n",
    "*   Jika nilai kurtosis lebih besar dari 3, dikatakan leptokurtik, yang berarti cenderung menghasilkan lebih besar nilai outlier.\n",
    "\n",
    "Jika kita melihat hasil di bawah nilai kurtosis pada \"total_char\" dan \"total_word\" bernilai kurang dari 3 yang berarti memiliki sifat \"playkurtik\"."
   ]
  },
  {
   "cell_type": "code",
   "execution_count": null,
   "metadata": {},
   "outputs": [],
   "source": []
  },
  {
   "attachments": {},
   "cell_type": "markdown",
   "metadata": {},
   "source": [
    "### Visualization\n",
    "\n",
    "Selain dengan pendekatan Descriptive Statistic, untuk mengetahui insight melalui Univariate Analysis bisa menggunakan visualisasi. "
   ]
  },
  {
   "attachments": {},
   "cell_type": "markdown",
   "metadata": {},
   "source": [
    "#### Pie"
   ]
  },
  {
   "attachments": {},
   "cell_type": "markdown",
   "metadata": {},
   "source": [
    "Berikut contoh visualisasi Pie Chart untuk melihat persebaran total sentimen per kelasnya.\n",
    "\n",
    "Berdasarkan gambar di bawah terlihat sentimen terbanyak ada di sentimen positif, selanjutnya sentimen negatif, dan yang terakhir sentimen netral. "
   ]
  },
  {
   "cell_type": "code",
   "execution_count": null,
   "metadata": {},
   "outputs": [],
   "source": []
  },
  {
   "attachments": {},
   "cell_type": "markdown",
   "metadata": {},
   "source": [
    "#### Histogram\n",
    "Berikut contoh visualisasi Histogram untuk melihat persebaran jumlah karakter (total_char).\n",
    "\n",
    "Berdasarkan gambar di bawah terlihat rata-rata panjang karakter dari data teks yang kita miliki ada pada sekitar 100-200 karakter."
   ]
  },
  {
   "cell_type": "code",
   "execution_count": null,
   "metadata": {},
   "outputs": [],
   "source": []
  },
  {
   "attachments": {},
   "cell_type": "markdown",
   "metadata": {},
   "source": [
    "Berikut contoh visualisasi Histogram untuk melihat persebaran jumlah word (total_word).\n",
    "\n",
    "Berdasarkan gambar di bawah terlihat rata-rata panjang kata dari data teks yang kita miliki ada pada sekitar 20-40 kata."
   ]
  },
  {
   "cell_type": "code",
   "execution_count": null,
   "metadata": {},
   "outputs": [],
   "source": []
  },
  {
   "attachments": {},
   "cell_type": "markdown",
   "metadata": {},
   "source": [
    "##### Histogram & Filter Sentiment"
   ]
  },
  {
   "cell_type": "code",
   "execution_count": null,
   "metadata": {},
   "outputs": [],
   "source": []
  },
  {
   "cell_type": "code",
   "execution_count": null,
   "metadata": {},
   "outputs": [],
   "source": []
  },
  {
   "cell_type": "code",
   "execution_count": null,
   "metadata": {},
   "outputs": [],
   "source": []
  },
  {
   "attachments": {},
   "cell_type": "markdown",
   "metadata": {},
   "source": [
    "Kita bisa memfilter data berdasarkan sentimen setelah itu memvisualisasikannya dalam bentuk Histogram.\n",
    "\n",
    "Hasilnya:\n",
    "\n",
    "*   Pada sentimen negatif, mayoritas panjang karakternya 0-200 karakter dan panjang katanya sekitar 50 kata. \n",
    "*   Pada sentimen netral, mayoritas panjang karakternya sekitar 100 karakter dan panjang katanya sekitar 25 kata.\n",
    "*   Pada sentimen positif, mayoritas panjang karakternya 200-400 karakter dan panjang katanya sekitar 30-70 kata.\n"
   ]
  },
  {
   "cell_type": "code",
   "execution_count": null,
   "metadata": {},
   "outputs": [],
   "source": []
  },
  {
   "cell_type": "code",
   "execution_count": null,
   "metadata": {},
   "outputs": [],
   "source": []
  },
  {
   "cell_type": "code",
   "execution_count": null,
   "metadata": {},
   "outputs": [],
   "source": []
  },
  {
   "attachments": {},
   "cell_type": "markdown",
   "metadata": {},
   "source": [
    "#### Wordcloud"
   ]
  },
  {
   "attachments": {},
   "cell_type": "markdown",
   "metadata": {},
   "source": [
    "Kita bisa melihat kata yang sering muncul dengan visualisasi wordcloud. Terlihat pada visualisasi di bawah kata yang sering muncul adalah \"dan\", \"dengan\", \"karena\", \"di\", \"sini\", \"tempat\", \"nya\"."
   ]
  },
  {
   "cell_type": "code",
   "execution_count": null,
   "metadata": {},
   "outputs": [],
   "source": [
    "# Visualisasi Wordcloud"
   ]
  },
  {
   "attachments": {},
   "cell_type": "markdown",
   "metadata": {},
   "source": [
    "##### Wordcloud & Filter Sentiment"
   ]
  },
  {
   "attachments": {},
   "cell_type": "markdown",
   "metadata": {},
   "source": [
    "Kita bisa memfilter data berdasarkan sentimen setelah itu memvisualisasikannya dalam bentuk Worcloud.\n",
    "\n",
    "Hasilnya:\n",
    "\n",
    "*   Pada sentimen negatif, kata yang sering muncul adalah \"nya\", \"yang\", dan \"dan\". \n",
    "*   Pada sentimen netral, kata yang sering muncul adalah \"dan\", \"yang\", \"di\", \"untuk\", dan \"dengan\".\n",
    "*   Pada sentimen positif, kata yang sering muncul adalah \"dan\", \"di\", \"sini\", \"tempat\", \"nya\", dan \"enak\"."
   ]
  },
  {
   "cell_type": "code",
   "execution_count": null,
   "metadata": {},
   "outputs": [],
   "source": [
    "# Visualisasi Wordcloud sentiment negatif"
   ]
  },
  {
   "cell_type": "code",
   "execution_count": null,
   "metadata": {},
   "outputs": [],
   "source": [
    "# Visualisasi Wordcloud sentiment neutral"
   ]
  },
  {
   "cell_type": "code",
   "execution_count": null,
   "metadata": {},
   "outputs": [],
   "source": [
    "# Visualisasi Wordcloud sentiment positif"
   ]
  },
  {
   "cell_type": "code",
   "execution_count": null,
   "metadata": {},
   "outputs": [],
   "source": []
  },
  {
   "attachments": {},
   "cell_type": "markdown",
   "metadata": {},
   "source": [
    "## Bivariate Analysis"
   ]
  },
  {
   "attachments": {},
   "cell_type": "markdown",
   "metadata": {},
   "source": [
    "### Descriptive Statistic"
   ]
  },
  {
   "attachments": {},
   "cell_type": "markdown",
   "metadata": {},
   "source": [
    "Untuk melakukan Bivariate Analysis kita bisa mengkombinasikan pendekatan statistik dan visualisasi sama seperti Univariate Analysis."
   ]
  },
  {
   "attachments": {},
   "cell_type": "markdown",
   "metadata": {},
   "source": [
    "#### Pearson Correlation\n",
    "Pearson Correlation mengukur linear dependence antara 2 variabel X dan Y.\n",
    "Hasilnya berupa angka diantara -1 dan 1, dimana:\n",
    "- 1: total positive linear correlation,\n",
    "- 0: no linear correlation, the two variables most likely do not affect each other\n",
    "- -1: total negative linear correlation.\n",
    "\n",
    "Pada hasil di bawah, antara \"total_word\" dan \"total_char\" memiliki korelasi positif karena mendekati nilai 1:\n",
    "\n",
    "\n",
    "\n",
    "*   \"total_world\" -> \"total_char\": 0.99\n",
    "*   \"total_char\" -> \"total_world\": 0.99\n",
    "\n"
   ]
  },
  {
   "cell_type": "code",
   "execution_count": null,
   "metadata": {},
   "outputs": [],
   "source": []
  },
  {
   "cell_type": "code",
   "execution_count": null,
   "metadata": {},
   "outputs": [],
   "source": []
  },
  {
   "cell_type": "code",
   "execution_count": null,
   "metadata": {},
   "outputs": [],
   "source": []
  },
  {
   "attachments": {},
   "cell_type": "markdown",
   "metadata": {},
   "source": [
    "### Visualization"
   ]
  },
  {
   "attachments": {},
   "cell_type": "markdown",
   "metadata": {},
   "source": [
    "#### Scatter"
   ]
  },
  {
   "attachments": {},
   "cell_type": "markdown",
   "metadata": {},
   "source": [
    "Angka korelasi positif sebelumnya terkonfirmasi dari visualisasi scatter di bawah. Terlihat pola yang dihasilkan linier dari pojok kiri bawah ke pojok kanan atas."
   ]
  },
  {
   "cell_type": "code",
   "execution_count": null,
   "metadata": {},
   "outputs": [],
   "source": []
  },
  {
   "cell_type": "code",
   "execution_count": null,
   "metadata": {},
   "outputs": [],
   "source": []
  },
  {
   "attachments": {},
   "cell_type": "markdown",
   "metadata": {},
   "source": [
    "#### Bar"
   ]
  },
  {
   "attachments": {},
   "cell_type": "markdown",
   "metadata": {},
   "source": [
    "##### Total Word + Label\n",
    "\n",
    "Kita bisa melihat kombinasi visualisasi antara total_word dan label untuk mencari tahu sentimen apa yang memiliki kata yang paling panjang.\n",
    "\n",
    "Pada visualisasi di bawah sentimen positif memiliki kata yang paling panjang"
   ]
  },
  {
   "cell_type": "code",
   "execution_count": null,
   "metadata": {},
   "outputs": [],
   "source": []
  },
  {
   "attachments": {},
   "cell_type": "markdown",
   "metadata": {},
   "source": [
    "##### Total Char + Label\n",
    "\n",
    "Kita bisa melihat kombinasi visualisasi antara total_char dan label untuk mencari tahu sentimen apa yang memiliki kata yang paling panjang.\n",
    "\n",
    "Pada visualisasi di bawah sentimen positif memiliki karakter yang paling panjang"
   ]
  },
  {
   "cell_type": "code",
   "execution_count": null,
   "metadata": {},
   "outputs": [],
   "source": []
  },
  {
   "attachments": {},
   "cell_type": "markdown",
   "metadata": {},
   "source": [
    "# Conclusion"
   ]
  },
  {
   "attachments": {},
   "cell_type": "markdown",
   "metadata": {},
   "source": [
    "Berdasarkan analisis yang sudah kita lakukan, ada beberapa insight yang bisa kita ambil:\n",
    "\n",
    "*   Berdasarkan Univariate Analysis:\n",
    "  *  Dalam Descriptive Statistic menunjukkan data yang kita olah memiliki outlier namun tidak terlalu signifikan\n",
    "  *  Dalam visualisasi menunjukkan:\n",
    "      *  Total karakter dan total kata memiliki panjang 100-200 karakter dan 24-40 kata.\n",
    "      *  Sentimen terbanyak adalah sentimen positif, selanjutnya sentimen negatif, dan yang terakhir sentimen netral.\n",
    "      *  Total karakter dan kata yang paling banyak adalah sentimen positif yakni 200-400 karakter dan 30-70 kata.\n",
    "      *  Pada sentimen positif, kata yang sering muncul adalah \"dan\", \"di\", \"sini\", \"tempat\", \"nya\", dan \"enak\".\n",
    "\n",
    "*   Berdasarkan Bivariate Analysis:\n",
    "  *  Dalam Descriptive Statistic menunjukkan variabel total karakter dan total kata memiliki korelasi positif. \n",
    "  *  Dalam visualisasi menunjukkan:\n",
    "      *  Variabel total karakter dan total kata terkonfirmasi memiliki korelasi positif\n",
    "      *  Total karakter dan kata yang paling banyak adalah sentimen positif."
   ]
  }
 ],
 "metadata": {
  "kernelspec": {
   "display_name": "base",
   "language": "python",
   "name": "python3"
  },
  "language_info": {
   "codemirror_mode": {
    "name": "ipython",
    "version": 3
   },
   "file_extension": ".py",
   "mimetype": "text/x-python",
   "name": "python",
   "nbconvert_exporter": "python",
   "pygments_lexer": "ipython3",
   "version": "3.9.15 (main, Nov 24 2022, 08:29:02) \n[Clang 14.0.6 ]"
  },
  "orig_nbformat": 4,
  "vscode": {
   "interpreter": {
    "hash": "30c09491f87e3dd016f780d88cc71ddc8784020737d635e0d66e623df59197b1"
   }
  }
 },
 "nbformat": 4,
 "nbformat_minor": 2
}
