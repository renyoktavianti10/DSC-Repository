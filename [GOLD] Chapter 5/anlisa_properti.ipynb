{
 "cells": [
  {
   "attachments": {},
   "cell_type": "markdown",
   "metadata": {},
   "source": [
    "## Business Understanding \n",
    "\n",
    "### Prediksi harga properti di Bandung menggunakan Machine Learning\n",
    "\n",
    "prediksi harga properti berdasarkan jumlah kamar, luas tanah, luas bangunan"
   ]
  },
  {
   "cell_type": "code",
   "execution_count": 37,
   "metadata": {},
   "outputs": [
    {
     "name": "stdout",
     "output_type": "stream",
     "text": [
      "Python 3.9.15\n"
     ]
    }
   ],
   "source": [
    "!python --version"
   ]
  },
  {
   "attachments": {},
   "cell_type": "markdown",
   "metadata": {},
   "source": [
    "#### Import library"
   ]
  },
  {
   "cell_type": "code",
   "execution_count": 38,
   "metadata": {},
   "outputs": [
    {
     "name": "stdout",
     "output_type": "stream",
     "text": [
      "Requirement already satisfied: package_name in /Users/renyoktavianti/miniconda3/lib/python3.9/site-packages (0.1)\n"
     ]
    }
   ],
   "source": [
    "!pip install package_name"
   ]
  },
  {
   "cell_type": "code",
   "execution_count": 39,
   "metadata": {},
   "outputs": [
    {
     "name": "stdout",
     "output_type": "stream",
     "text": [
      "pip 23.0.1 from /Users/renyoktavianti/miniconda3/lib/python3.9/site-packages/pip (python 3.9)\n",
      "zsh:1: unknown file attribute: y\n"
     ]
    }
   ],
   "source": [
    "!pip --version\n",
    "!pip 19.0.3 from /usr/renyoktavianti/miniconda3/lib/python3.9/site-packages/pip (python 3.7)"
   ]
  },
  {
   "cell_type": "code",
   "execution_count": 40,
   "metadata": {},
   "outputs": [
    {
     "name": "stdout",
     "output_type": "stream",
     "text": [
      "Requirement already satisfied: scikit-learn in /Users/renyoktavianti/miniconda3/lib/python3.9/site-packages (1.2.2)\n",
      "Requirement already satisfied: threadpoolctl>=2.0.0 in /Users/renyoktavianti/miniconda3/lib/python3.9/site-packages (from scikit-learn) (3.1.0)\n",
      "Requirement already satisfied: scipy>=1.3.2 in /Users/renyoktavianti/miniconda3/lib/python3.9/site-packages (from scikit-learn) (1.9.3)\n",
      "Requirement already satisfied: numpy>=1.17.3 in /Users/renyoktavianti/miniconda3/lib/python3.9/site-packages (from scikit-learn) (1.24.2)\n",
      "Requirement already satisfied: joblib>=1.1.1 in /Users/renyoktavianti/miniconda3/lib/python3.9/site-packages (from scikit-learn) (1.2.0)\n"
     ]
    }
   ],
   "source": [
    "!python3 -m pip install scikit-learn"
   ]
  },
  {
   "cell_type": "code",
   "execution_count": 41,
   "metadata": {},
   "outputs": [
    {
     "name": "stdout",
     "output_type": "stream",
     "text": [
      "/Users/renyoktavianti/miniconda3/bin/python3\n"
     ]
    }
   ],
   "source": [
    "!which python3"
   ]
  },
  {
   "cell_type": "code",
   "execution_count": 42,
   "metadata": {},
   "outputs": [
    {
     "name": "stdout",
     "output_type": "stream",
     "text": [
      "Requirement already satisfied: scikit-learn in /Users/renyoktavianti/miniconda3/lib/python3.9/site-packages (1.2.2)\n",
      "Requirement already satisfied: numpy>=1.17.3 in /Users/renyoktavianti/miniconda3/lib/python3.9/site-packages (from scikit-learn) (1.24.2)\n",
      "Requirement already satisfied: scipy>=1.3.2 in /Users/renyoktavianti/miniconda3/lib/python3.9/site-packages (from scikit-learn) (1.9.3)\n",
      "Requirement already satisfied: joblib>=1.1.1 in /Users/renyoktavianti/miniconda3/lib/python3.9/site-packages (from scikit-learn) (1.2.0)\n",
      "Requirement already satisfied: threadpoolctl>=2.0.0 in /Users/renyoktavianti/miniconda3/lib/python3.9/site-packages (from scikit-learn) (3.1.0)\n"
     ]
    }
   ],
   "source": [
    "!python3 -m pip install -U scikit-learn\n"
   ]
  },
  {
   "cell_type": "code",
   "execution_count": 43,
   "metadata": {},
   "outputs": [],
   "source": [
    "import warnings\n",
    "\n",
    "import pandas as pd\n",
    "import matplotlib.pyplot as plt\n",
    "import numpy as np\n",
    "import seaborn as sns\n",
    "from sklearn.linear_model import LinearRegression\n",
    "from sklearn.model_selection import train_test_split"
   ]
  },
  {
   "attachments": {},
   "cell_type": "markdown",
   "metadata": {},
   "source": [
    "### Read Data"
   ]
  },
  {
   "cell_type": "code",
   "execution_count": 44,
   "metadata": {},
   "outputs": [
    {
     "ename": "ValueError",
     "evalue": "Excel file format cannot be determined, you must specify an engine manually.",
     "output_type": "error",
     "traceback": [
      "\u001b[0;31m---------------------------------------------------------------------------\u001b[0m",
      "\u001b[0;31mValueError\u001b[0m                                Traceback (most recent call last)",
      "Cell \u001b[0;32mIn[44], line 2\u001b[0m\n\u001b[1;32m      1\u001b[0m \u001b[39m# membaca data excel\u001b[39;00m\n\u001b[0;32m----> 2\u001b[0m read_file \u001b[39m=\u001b[39m pd\u001b[39m.\u001b[39;49mread_excel (\u001b[39m\"\u001b[39;49m\u001b[39m/Users/renyoktavianti/miniconda3/envs/DSC-Repository/[GOLD] Chapter 5/data_rumah_bdg.csv\u001b[39;49m\u001b[39m\"\u001b[39;49m)\n\u001b[1;32m      4\u001b[0m \u001b[39m# simpan objek datafram ke csv file \u001b[39;00m\n\u001b[1;32m      5\u001b[0m read_file\u001b[39m.\u001b[39mto_csv (\u001b[39m\"\u001b[39m\u001b[39m/Users/renyoktavianti/miniconda3/envs/DSC-Repository/[GOLD] Chapter 5/data_rumah_bdg.csv\u001b[39m\u001b[39m\"\u001b[39m, \n\u001b[1;32m      6\u001b[0m                   index \u001b[39m=\u001b[39m \u001b[39mNone\u001b[39;00m,\n\u001b[1;32m      7\u001b[0m                   header\u001b[39m=\u001b[39m\u001b[39mTrue\u001b[39;00m)\n",
      "File \u001b[0;32m~/miniconda3/lib/python3.9/site-packages/pandas/util/_decorators.py:211\u001b[0m, in \u001b[0;36mdeprecate_kwarg.<locals>._deprecate_kwarg.<locals>.wrapper\u001b[0;34m(*args, **kwargs)\u001b[0m\n\u001b[1;32m    209\u001b[0m     \u001b[39melse\u001b[39;00m:\n\u001b[1;32m    210\u001b[0m         kwargs[new_arg_name] \u001b[39m=\u001b[39m new_arg_value\n\u001b[0;32m--> 211\u001b[0m \u001b[39mreturn\u001b[39;00m func(\u001b[39m*\u001b[39;49margs, \u001b[39m*\u001b[39;49m\u001b[39m*\u001b[39;49mkwargs)\n",
      "File \u001b[0;32m~/miniconda3/lib/python3.9/site-packages/pandas/util/_decorators.py:331\u001b[0m, in \u001b[0;36mdeprecate_nonkeyword_arguments.<locals>.decorate.<locals>.wrapper\u001b[0;34m(*args, **kwargs)\u001b[0m\n\u001b[1;32m    325\u001b[0m \u001b[39mif\u001b[39;00m \u001b[39mlen\u001b[39m(args) \u001b[39m>\u001b[39m num_allow_args:\n\u001b[1;32m    326\u001b[0m     warnings\u001b[39m.\u001b[39mwarn(\n\u001b[1;32m    327\u001b[0m         msg\u001b[39m.\u001b[39mformat(arguments\u001b[39m=\u001b[39m_format_argument_list(allow_args)),\n\u001b[1;32m    328\u001b[0m         \u001b[39mFutureWarning\u001b[39;00m,\n\u001b[1;32m    329\u001b[0m         stacklevel\u001b[39m=\u001b[39mfind_stack_level(),\n\u001b[1;32m    330\u001b[0m     )\n\u001b[0;32m--> 331\u001b[0m \u001b[39mreturn\u001b[39;00m func(\u001b[39m*\u001b[39;49margs, \u001b[39m*\u001b[39;49m\u001b[39m*\u001b[39;49mkwargs)\n",
      "File \u001b[0;32m~/miniconda3/lib/python3.9/site-packages/pandas/io/excel/_base.py:482\u001b[0m, in \u001b[0;36mread_excel\u001b[0;34m(io, sheet_name, header, names, index_col, usecols, squeeze, dtype, engine, converters, true_values, false_values, skiprows, nrows, na_values, keep_default_na, na_filter, verbose, parse_dates, date_parser, thousands, decimal, comment, skipfooter, convert_float, mangle_dupe_cols, storage_options)\u001b[0m\n\u001b[1;32m    480\u001b[0m \u001b[39mif\u001b[39;00m \u001b[39mnot\u001b[39;00m \u001b[39misinstance\u001b[39m(io, ExcelFile):\n\u001b[1;32m    481\u001b[0m     should_close \u001b[39m=\u001b[39m \u001b[39mTrue\u001b[39;00m\n\u001b[0;32m--> 482\u001b[0m     io \u001b[39m=\u001b[39m ExcelFile(io, storage_options\u001b[39m=\u001b[39;49mstorage_options, engine\u001b[39m=\u001b[39;49mengine)\n\u001b[1;32m    483\u001b[0m \u001b[39melif\u001b[39;00m engine \u001b[39mand\u001b[39;00m engine \u001b[39m!=\u001b[39m io\u001b[39m.\u001b[39mengine:\n\u001b[1;32m    484\u001b[0m     \u001b[39mraise\u001b[39;00m \u001b[39mValueError\u001b[39;00m(\n\u001b[1;32m    485\u001b[0m         \u001b[39m\"\u001b[39m\u001b[39mEngine should not be specified when passing \u001b[39m\u001b[39m\"\u001b[39m\n\u001b[1;32m    486\u001b[0m         \u001b[39m\"\u001b[39m\u001b[39man ExcelFile - ExcelFile already has the engine set\u001b[39m\u001b[39m\"\u001b[39m\n\u001b[1;32m    487\u001b[0m     )\n",
      "File \u001b[0;32m~/miniconda3/lib/python3.9/site-packages/pandas/io/excel/_base.py:1656\u001b[0m, in \u001b[0;36mExcelFile.__init__\u001b[0;34m(self, path_or_buffer, engine, storage_options)\u001b[0m\n\u001b[1;32m   1652\u001b[0m     ext \u001b[39m=\u001b[39m inspect_excel_format(\n\u001b[1;32m   1653\u001b[0m         content_or_path\u001b[39m=\u001b[39mpath_or_buffer, storage_options\u001b[39m=\u001b[39mstorage_options\n\u001b[1;32m   1654\u001b[0m     )\n\u001b[1;32m   1655\u001b[0m     \u001b[39mif\u001b[39;00m ext \u001b[39mis\u001b[39;00m \u001b[39mNone\u001b[39;00m:\n\u001b[0;32m-> 1656\u001b[0m         \u001b[39mraise\u001b[39;00m \u001b[39mValueError\u001b[39;00m(\n\u001b[1;32m   1657\u001b[0m             \u001b[39m\"\u001b[39m\u001b[39mExcel file format cannot be determined, you must specify \u001b[39m\u001b[39m\"\u001b[39m\n\u001b[1;32m   1658\u001b[0m             \u001b[39m\"\u001b[39m\u001b[39man engine manually.\u001b[39m\u001b[39m\"\u001b[39m\n\u001b[1;32m   1659\u001b[0m         )\n\u001b[1;32m   1661\u001b[0m engine \u001b[39m=\u001b[39m config\u001b[39m.\u001b[39mget_option(\u001b[39mf\u001b[39m\u001b[39m\"\u001b[39m\u001b[39mio.excel.\u001b[39m\u001b[39m{\u001b[39;00mext\u001b[39m}\u001b[39;00m\u001b[39m.reader\u001b[39m\u001b[39m\"\u001b[39m, silent\u001b[39m=\u001b[39m\u001b[39mTrue\u001b[39;00m)\n\u001b[1;32m   1662\u001b[0m \u001b[39mif\u001b[39;00m engine \u001b[39m==\u001b[39m \u001b[39m\"\u001b[39m\u001b[39mauto\u001b[39m\u001b[39m\"\u001b[39m:\n",
      "\u001b[0;31mValueError\u001b[0m: Excel file format cannot be determined, you must specify an engine manually."
     ]
    }
   ],
   "source": [
    "# membaca data excel\n",
    "read_file = pd.read_excel (\"/Users/renyoktavianti/miniconda3/envs/DSC-Repository/[GOLD] Chapter 5/data_rumah_bdg.csv\")\n",
    "  \n",
    "# simpan objek datafram ke csv file \n",
    "read_file.to_csv (\"/Users/renyoktavianti/miniconda3/envs/DSC-Repository/[GOLD] Chapter 5/data_rumah_bdg.csv\", \n",
    "                  index = None,\n",
    "                  header=True)"
   ]
  },
  {
   "cell_type": "code",
   "execution_count": null,
   "metadata": {},
   "outputs": [
    {
     "data": {
      "text/html": [
       "<div>\n",
       "<style scoped>\n",
       "    .dataframe tbody tr th:only-of-type {\n",
       "        vertical-align: middle;\n",
       "    }\n",
       "\n",
       "    .dataframe tbody tr th {\n",
       "        vertical-align: top;\n",
       "    }\n",
       "\n",
       "    .dataframe thead th {\n",
       "        text-align: right;\n",
       "    }\n",
       "</style>\n",
       "<table border=\"1\" class=\"dataframe\">\n",
       "  <thead>\n",
       "    <tr style=\"text-align: right;\">\n",
       "      <th></th>\n",
       "      <th>judul</th>\n",
       "      <th>alamat</th>\n",
       "      <th>deskripsi</th>\n",
       "      <th>kamar</th>\n",
       "      <th>bangunan</th>\n",
       "      <th>lahan</th>\n",
       "      <th>harga</th>\n",
       "    </tr>\n",
       "  </thead>\n",
       "  <tbody>\n",
       "    <tr>\n",
       "      <th>0</th>\n",
       "      <td>Promo Rumah Mewah Akhir Tahun</td>\n",
       "      <td>Antapani, Bandung</td>\n",
       "      <td>Promo akhir tahun !! Hanya 500 jt-an + FREE SH...</td>\n",
       "      <td>3</td>\n",
       "      <td>75</td>\n",
       "      <td>84</td>\n",
       "      <td>590000000</td>\n",
       "    </tr>\n",
       "    <tr>\n",
       "      <th>1</th>\n",
       "      <td>Rumah modern Readystock di bandung raya cimahi...</td>\n",
       "      <td>Bandung Wetan, Bandung</td>\n",
       "      <td>Rumah Baru modern 2 LT di Sayap Kota Cimahi de...</td>\n",
       "      <td>3</td>\n",
       "      <td>70</td>\n",
       "      <td>71</td>\n",
       "      <td>700000000</td>\n",
       "    </tr>\n",
       "    <tr>\n",
       "      <th>2</th>\n",
       "      <td>Dijual rumah 300 jutaan jalan lebar dekat Ikea...</td>\n",
       "      <td>Padalarang, Bandung</td>\n",
       "      <td>*Jadilah konsumen CERDAS !* *Tips singkat sebe...</td>\n",
       "      <td>2</td>\n",
       "      <td>36</td>\n",
       "      <td>72</td>\n",
       "      <td>386000000</td>\n",
       "    </tr>\n",
       "    <tr>\n",
       "      <th>3</th>\n",
       "      <td>Dijual PROMO rumah 2 lantai di sayap Setiabudi...</td>\n",
       "      <td>Bandung</td>\n",
       "      <td>Copy writing nasc  NUANSA ALAM SETIABUDHI CLOV...</td>\n",
       "      <td>2</td>\n",
       "      <td>60</td>\n",
       "      <td>60</td>\n",
       "      <td>499000000</td>\n",
       "    </tr>\n",
       "    <tr>\n",
       "      <th>4</th>\n",
       "      <td>Rumah Strategis Siap Huni di dekat Tol Cileuny...</td>\n",
       "      <td>Cibiru Hilir, Bandung</td>\n",
       "      <td>Hunian Nyaman di Cibiru, Cileunyi, Bandung Tim...</td>\n",
       "      <td>2</td>\n",
       "      <td>90</td>\n",
       "      <td>114</td>\n",
       "      <td>397500000</td>\n",
       "    </tr>\n",
       "    <tr>\n",
       "      <th>...</th>\n",
       "      <td>...</td>\n",
       "      <td>...</td>\n",
       "      <td>...</td>\n",
       "      <td>...</td>\n",
       "      <td>...</td>\n",
       "      <td>...</td>\n",
       "      <td>...</td>\n",
       "    </tr>\n",
       "    <tr>\n",
       "      <th>1465</th>\n",
       "      <td>Rumah Lama Turangga</td>\n",
       "      <td>Turangga, Bandung</td>\n",
       "      <td>Di jual rumah lama turangga\\nLuas tanah : 240 ...</td>\n",
       "      <td>6</td>\n",
       "      <td>280</td>\n",
       "      <td>240</td>\n",
       "      <td>2800000000</td>\n",
       "    </tr>\n",
       "    <tr>\n",
       "      <th>1466</th>\n",
       "      <td>Rumah di nirwana residence bandung siap huni t...</td>\n",
       "      <td>Bandung</td>\n",
       "      <td>Rumah bagus siap huni dan terawat, dekat denga...</td>\n",
       "      <td>3</td>\n",
       "      <td>180</td>\n",
       "      <td>90</td>\n",
       "      <td>1000000000</td>\n",
       "    </tr>\n",
       "    <tr>\n",
       "      <th>1467</th>\n",
       "      <td>Rumah Minimalis Siap Huni Sangat Murah Di Pinu...</td>\n",
       "      <td>Soekarno Hatta, Bandung</td>\n",
       "      <td>Turun HargaHarga Awal 675 sekarang jadi 572 ne...</td>\n",
       "      <td>2</td>\n",
       "      <td>65</td>\n",
       "      <td>72</td>\n",
       "      <td>572000000</td>\n",
       "    </tr>\n",
       "    <tr>\n",
       "      <th>1468</th>\n",
       "      <td>Dijual Cepat Rumah Strategis di Komplek Batura...</td>\n",
       "      <td>Rancasari, Bandung</td>\n",
       "      <td>Dijual Cepat Rumah di Komplek Batu Raden dekat...</td>\n",
       "      <td>6</td>\n",
       "      <td>160</td>\n",
       "      <td>318</td>\n",
       "      <td>2300000000</td>\n",
       "    </tr>\n",
       "    <tr>\n",
       "      <th>1469</th>\n",
       "      <td>Rumah turangga bagus siap huni turun harga dra...</td>\n",
       "      <td>Turangga, Bandung</td>\n",
       "      <td>Turun Harga drastis CAKEP BOSQUE.. Area Turang...</td>\n",
       "      <td>5</td>\n",
       "      <td>240</td>\n",
       "      <td>188</td>\n",
       "      <td>2400000000</td>\n",
       "    </tr>\n",
       "  </tbody>\n",
       "</table>\n",
       "<p>1470 rows × 7 columns</p>\n",
       "</div>"
      ],
      "text/plain": [
       "                                                  judul  \\\n",
       "0                         Promo Rumah Mewah Akhir Tahun   \n",
       "1     Rumah modern Readystock di bandung raya cimahi...   \n",
       "2     Dijual rumah 300 jutaan jalan lebar dekat Ikea...   \n",
       "3     Dijual PROMO rumah 2 lantai di sayap Setiabudi...   \n",
       "4     Rumah Strategis Siap Huni di dekat Tol Cileuny...   \n",
       "...                                                 ...   \n",
       "1465                                Rumah Lama Turangga   \n",
       "1466  Rumah di nirwana residence bandung siap huni t...   \n",
       "1467  Rumah Minimalis Siap Huni Sangat Murah Di Pinu...   \n",
       "1468  Dijual Cepat Rumah Strategis di Komplek Batura...   \n",
       "1469  Rumah turangga bagus siap huni turun harga dra...   \n",
       "\n",
       "                       alamat  \\\n",
       "0           Antapani, Bandung   \n",
       "1      Bandung Wetan, Bandung   \n",
       "2         Padalarang, Bandung   \n",
       "3                     Bandung   \n",
       "4       Cibiru Hilir, Bandung   \n",
       "...                       ...   \n",
       "1465        Turangga, Bandung   \n",
       "1466                  Bandung   \n",
       "1467  Soekarno Hatta, Bandung   \n",
       "1468       Rancasari, Bandung   \n",
       "1469        Turangga, Bandung   \n",
       "\n",
       "                                              deskripsi  kamar  bangunan  \\\n",
       "0     Promo akhir tahun !! Hanya 500 jt-an + FREE SH...      3        75   \n",
       "1     Rumah Baru modern 2 LT di Sayap Kota Cimahi de...      3        70   \n",
       "2     *Jadilah konsumen CERDAS !* *Tips singkat sebe...      2        36   \n",
       "3     Copy writing nasc  NUANSA ALAM SETIABUDHI CLOV...      2        60   \n",
       "4     Hunian Nyaman di Cibiru, Cileunyi, Bandung Tim...      2        90   \n",
       "...                                                 ...    ...       ...   \n",
       "1465  Di jual rumah lama turangga\\nLuas tanah : 240 ...      6       280   \n",
       "1466  Rumah bagus siap huni dan terawat, dekat denga...      3       180   \n",
       "1467  Turun HargaHarga Awal 675 sekarang jadi 572 ne...      2        65   \n",
       "1468  Dijual Cepat Rumah di Komplek Batu Raden dekat...      6       160   \n",
       "1469  Turun Harga drastis CAKEP BOSQUE.. Area Turang...      5       240   \n",
       "\n",
       "      lahan       harga  \n",
       "0        84   590000000  \n",
       "1        71   700000000  \n",
       "2        72   386000000  \n",
       "3        60   499000000  \n",
       "4       114   397500000  \n",
       "...     ...         ...  \n",
       "1465    240  2800000000  \n",
       "1466     90  1000000000  \n",
       "1467     72   572000000  \n",
       "1468    318  2300000000  \n",
       "1469    188  2400000000  \n",
       "\n",
       "[1470 rows x 7 columns]"
      ]
     },
     "execution_count": 28,
     "metadata": {},
     "output_type": "execute_result"
    }
   ],
   "source": [
    "\n",
    "# membaca file hasil konversi\n",
    "# menjadi dataframe objek\n",
    "df = pd.read_csv(\"/Users/renyoktavianti/miniconda3/envs/DSC-Repository/[GOLD] Chapter 5/data_rumah_bdg.csv\")\n",
    "  \n",
    "# tampilkan dataframe\n",
    "df"
   ]
  },
  {
   "attachments": {},
   "cell_type": "markdown",
   "metadata": {},
   "source": [
    "### Data Understanding\n",
    "- Data diatasa merupakan data harga properti di Bandung\n",
    "- **Objective goals** kita yaitu **memprediksi harga**. \n",
    "- Harga merupakan data type numeric, maka kita coba metode sederhana yaitu **Regresi Linear Berganda**\n",
    "- Kenapa pakai Berganda? Karena terdapat lebih dari 1 independent variabel (x) dalam memprediksi nilai dependent (y)\n",
    "- Rumus Regresi Linear Berganda yaitu sebagai berikut:\n",
    "<br>**Y = b + m1*x1 + m2*x2 + … + mn*xn**\n",
    "<br>\n",
    "Kererangan:\n",
    "<br> \n",
    "Y = dependent variable / variabel tidak bebas\n",
    "<br>\n",
    "mn = koefisien regresi = rata2 perubahan y jika x bertambah 1 unit\n",
    "<br>\n",
    "xn = independent variable / variable bebas\n",
    "<br>\n",
    "b = intercept = Nilai y pada x = 0"
   ]
  },
  {
   "cell_type": "code",
   "execution_count": null,
   "metadata": {},
   "outputs": [
    {
     "data": {
      "text/plain": [
       "(1470, 7)"
      ]
     },
     "execution_count": 29,
     "metadata": {},
     "output_type": "execute_result"
    }
   ],
   "source": [
    "# Mengetahui jumlah kolom dan baris dari data\n",
    "df.shape"
   ]
  },
  {
   "attachments": {},
   "cell_type": "markdown",
   "metadata": {},
   "source": [
    "```\n",
    "- Terdapat 1470 data observation, 7 features\n",
    "- Tujuan awal kita memprediksi harga berdasarkan jumlah kamar, luas bangunan, dan luas *tanah*\n",
    "- Maka hapus features yang tidak kita gunakan, yaitu [judul, alamat, deskripsi]\n",
    "```"
   ]
  },
  {
   "cell_type": "code",
   "execution_count": null,
   "metadata": {},
   "outputs": [
    {
     "data": {
      "text/html": [
       "<div>\n",
       "<style scoped>\n",
       "    .dataframe tbody tr th:only-of-type {\n",
       "        vertical-align: middle;\n",
       "    }\n",
       "\n",
       "    .dataframe tbody tr th {\n",
       "        vertical-align: top;\n",
       "    }\n",
       "\n",
       "    .dataframe thead th {\n",
       "        text-align: right;\n",
       "    }\n",
       "</style>\n",
       "<table border=\"1\" class=\"dataframe\">\n",
       "  <thead>\n",
       "    <tr style=\"text-align: right;\">\n",
       "      <th></th>\n",
       "      <th>kamar</th>\n",
       "      <th>bangunan</th>\n",
       "      <th>lahan</th>\n",
       "      <th>harga</th>\n",
       "    </tr>\n",
       "  </thead>\n",
       "  <tbody>\n",
       "    <tr>\n",
       "      <th>0</th>\n",
       "      <td>3</td>\n",
       "      <td>75</td>\n",
       "      <td>84</td>\n",
       "      <td>590000000</td>\n",
       "    </tr>\n",
       "    <tr>\n",
       "      <th>1</th>\n",
       "      <td>3</td>\n",
       "      <td>70</td>\n",
       "      <td>71</td>\n",
       "      <td>700000000</td>\n",
       "    </tr>\n",
       "    <tr>\n",
       "      <th>2</th>\n",
       "      <td>2</td>\n",
       "      <td>36</td>\n",
       "      <td>72</td>\n",
       "      <td>386000000</td>\n",
       "    </tr>\n",
       "    <tr>\n",
       "      <th>3</th>\n",
       "      <td>2</td>\n",
       "      <td>60</td>\n",
       "      <td>60</td>\n",
       "      <td>499000000</td>\n",
       "    </tr>\n",
       "    <tr>\n",
       "      <th>4</th>\n",
       "      <td>2</td>\n",
       "      <td>90</td>\n",
       "      <td>114</td>\n",
       "      <td>397500000</td>\n",
       "    </tr>\n",
       "    <tr>\n",
       "      <th>...</th>\n",
       "      <td>...</td>\n",
       "      <td>...</td>\n",
       "      <td>...</td>\n",
       "      <td>...</td>\n",
       "    </tr>\n",
       "    <tr>\n",
       "      <th>1465</th>\n",
       "      <td>6</td>\n",
       "      <td>280</td>\n",
       "      <td>240</td>\n",
       "      <td>2800000000</td>\n",
       "    </tr>\n",
       "    <tr>\n",
       "      <th>1466</th>\n",
       "      <td>3</td>\n",
       "      <td>180</td>\n",
       "      <td>90</td>\n",
       "      <td>1000000000</td>\n",
       "    </tr>\n",
       "    <tr>\n",
       "      <th>1467</th>\n",
       "      <td>2</td>\n",
       "      <td>65</td>\n",
       "      <td>72</td>\n",
       "      <td>572000000</td>\n",
       "    </tr>\n",
       "    <tr>\n",
       "      <th>1468</th>\n",
       "      <td>6</td>\n",
       "      <td>160</td>\n",
       "      <td>318</td>\n",
       "      <td>2300000000</td>\n",
       "    </tr>\n",
       "    <tr>\n",
       "      <th>1469</th>\n",
       "      <td>5</td>\n",
       "      <td>240</td>\n",
       "      <td>188</td>\n",
       "      <td>2400000000</td>\n",
       "    </tr>\n",
       "  </tbody>\n",
       "</table>\n",
       "<p>1470 rows × 4 columns</p>\n",
       "</div>"
      ],
      "text/plain": [
       "      kamar  bangunan  lahan       harga\n",
       "0         3        75     84   590000000\n",
       "1         3        70     71   700000000\n",
       "2         2        36     72   386000000\n",
       "3         2        60     60   499000000\n",
       "4         2        90    114   397500000\n",
       "...     ...       ...    ...         ...\n",
       "1465      6       280    240  2800000000\n",
       "1466      3       180     90  1000000000\n",
       "1467      2        65     72   572000000\n",
       "1468      6       160    318  2300000000\n",
       "1469      5       240    188  2400000000\n",
       "\n",
       "[1470 rows x 4 columns]"
      ]
     },
     "execution_count": 30,
     "metadata": {},
     "output_type": "execute_result"
    }
   ],
   "source": [
    "# hapus kolom judul, alamat, deskripsi\n",
    "df.drop(columns=[\"judul\", \"alamat\", \"deskripsi\"] , inplace=True)\n",
    "df"
   ]
  },
  {
   "cell_type": "code",
   "execution_count": null,
   "metadata": {},
   "outputs": [
    {
     "name": "stdout",
     "output_type": "stream",
     "text": [
      "<class 'pandas.core.frame.DataFrame'>\n",
      "RangeIndex: 1470 entries, 0 to 1469\n",
      "Data columns (total 4 columns):\n",
      " #   Column    Non-Null Count  Dtype\n",
      "---  ------    --------------  -----\n",
      " 0   kamar     1470 non-null   int64\n",
      " 1   bangunan  1470 non-null   int64\n",
      " 2   lahan     1470 non-null   int64\n",
      " 3   harga     1470 non-null   int64\n",
      "dtypes: int64(4)\n",
      "memory usage: 46.1 KB\n",
      "\n",
      " cek nul values\n"
     ]
    },
    {
     "data": {
      "text/plain": [
       "kamar       0\n",
       "bangunan    0\n",
       "lahan       0\n",
       "harga       0\n",
       "dtype: int64"
      ]
     },
     "execution_count": 31,
     "metadata": {},
     "output_type": "execute_result"
    }
   ],
   "source": [
    "# Selanjutnya kita lihat tipe data, memory yang digunakan dan jumlah null data\n",
    "# tidak ada null values dan type sudah sesui int, alias sudah clean\n",
    "df.info()\n",
    "print(\"\\n cek nul values\")\n",
    "df.isnull().sum()"
   ]
  },
  {
   "cell_type": "code",
   "execution_count": null,
   "metadata": {},
   "outputs": [
    {
     "data": {
      "text/html": [
       "<div>\n",
       "<style scoped>\n",
       "    .dataframe tbody tr th:only-of-type {\n",
       "        vertical-align: middle;\n",
       "    }\n",
       "\n",
       "    .dataframe tbody tr th {\n",
       "        vertical-align: top;\n",
       "    }\n",
       "\n",
       "    .dataframe thead th {\n",
       "        text-align: right;\n",
       "    }\n",
       "</style>\n",
       "<table border=\"1\" class=\"dataframe\">\n",
       "  <thead>\n",
       "    <tr style=\"text-align: right;\">\n",
       "      <th></th>\n",
       "      <th>kamar</th>\n",
       "      <th>bangunan</th>\n",
       "      <th>lahan</th>\n",
       "      <th>harga</th>\n",
       "    </tr>\n",
       "  </thead>\n",
       "  <tbody>\n",
       "    <tr>\n",
       "      <th>count</th>\n",
       "      <td>1470.000000</td>\n",
       "      <td>1470.000000</td>\n",
       "      <td>1470.000000</td>\n",
       "      <td>1.470000e+03</td>\n",
       "    </tr>\n",
       "    <tr>\n",
       "      <th>mean</th>\n",
       "      <td>3.646259</td>\n",
       "      <td>177.489116</td>\n",
       "      <td>210.235374</td>\n",
       "      <td>2.581586e+09</td>\n",
       "    </tr>\n",
       "    <tr>\n",
       "      <th>std</th>\n",
       "      <td>2.535528</td>\n",
       "      <td>176.726326</td>\n",
       "      <td>500.109095</td>\n",
       "      <td>4.358051e+09</td>\n",
       "    </tr>\n",
       "    <tr>\n",
       "      <th>min</th>\n",
       "      <td>0.000000</td>\n",
       "      <td>0.000000</td>\n",
       "      <td>0.000000</td>\n",
       "      <td>6.500000e+07</td>\n",
       "    </tr>\n",
       "    <tr>\n",
       "      <th>25%</th>\n",
       "      <td>2.000000</td>\n",
       "      <td>65.000000</td>\n",
       "      <td>80.000000</td>\n",
       "      <td>6.750000e+08</td>\n",
       "    </tr>\n",
       "    <tr>\n",
       "      <th>50%</th>\n",
       "      <td>3.000000</td>\n",
       "      <td>122.500000</td>\n",
       "      <td>120.000000</td>\n",
       "      <td>1.370000e+09</td>\n",
       "    </tr>\n",
       "    <tr>\n",
       "      <th>75%</th>\n",
       "      <td>4.000000</td>\n",
       "      <td>230.000000</td>\n",
       "      <td>210.000000</td>\n",
       "      <td>3.000000e+09</td>\n",
       "    </tr>\n",
       "    <tr>\n",
       "      <th>max</th>\n",
       "      <td>47.000000</td>\n",
       "      <td>1850.000000</td>\n",
       "      <td>15000.000000</td>\n",
       "      <td>5.700000e+10</td>\n",
       "    </tr>\n",
       "  </tbody>\n",
       "</table>\n",
       "</div>"
      ],
      "text/plain": [
       "             kamar     bangunan         lahan         harga\n",
       "count  1470.000000  1470.000000   1470.000000  1.470000e+03\n",
       "mean      3.646259   177.489116    210.235374  2.581586e+09\n",
       "std       2.535528   176.726326    500.109095  4.358051e+09\n",
       "min       0.000000     0.000000      0.000000  6.500000e+07\n",
       "25%       2.000000    65.000000     80.000000  6.750000e+08\n",
       "50%       3.000000   122.500000    120.000000  1.370000e+09\n",
       "75%       4.000000   230.000000    210.000000  3.000000e+09\n",
       "max      47.000000  1850.000000  15000.000000  5.700000e+10"
      ]
     },
     "execution_count": 32,
     "metadata": {},
     "output_type": "execute_result"
    }
   ],
   "source": [
    "# Statistical description\n",
    "df.describe()"
   ]
  },
  {
   "attachments": {},
   "cell_type": "markdown",
   "metadata": {},
   "source": [
    "### Exploratory Data Analysis"
   ]
  },
  {
   "cell_type": "code",
   "execution_count": 49,
   "metadata": {},
   "outputs": [
    {
     "data": {
      "text/plain": [
       "<function matplotlib.pyplot.show(close=None, block=None)>"
      ]
     },
     "execution_count": 49,
     "metadata": {},
     "output_type": "execute_result"
    },
    {
     "data": {
      "image/png": "[encoded data removed]",
      "text/plain": [
       "<Figure size 1200x400 with 2 Axes>"
      ]
     },
     "metadata": {},
     "output_type": "display_data"
    }
   ],
   "source": [
    "# Univariate analysis feature kamar\n",
    "f = plt.figure(figsize=(12,4))\n",
    "\n",
    "f.add_subplot(1,2,1)\n",
    "sns.countplot(df['kamar'])\n",
    "\n",
    "f.add_subplot(1,2,2)\n",
    "plt.boxplot(df['kamar'])\n",
    "plt.show"
   ]
  },
  {
   "attachments": {},
   "cell_type": "markdown",
   "metadata": {},
   "source": [
    "```\n",
    "- Dapat dilihat sebagian besar jumlah kamar tidur ada di angka 2, 3, dan 4\n",
    "- Data banyak memiliki outliers\n",
    "```"
   ]
  },
  {
   "cell_type": "code",
   "execution_count": 48,
   "metadata": {},
   "outputs": [
    {
     "data": {
      "text/plain": [
       "<function matplotlib.pyplot.show(close=None, block=None)>"
      ]
     },
     "execution_count": 48,
     "metadata": {},
     "output_type": "execute_result"
    },
    {
     "data": {
      "image/png": "[encoded data removed]",
      "text/plain": [
       "<Figure size 1200x400 with 2 Axes>"
      ]
     },
     "metadata": {},
     "output_type": "display_data"
    }
   ],
   "source": [
    "# univariate analysis luas bangunan\n",
    "f = plt.figure(figsize=(12,4))\n",
    "\n",
    "f.add_subplot(1,2,1)\n",
    "sns.countplot(df['bangunan'])\n",
    "\n",
    "f.add_subplot(1,2,2)\n",
    "plt.boxplot(df['bangunan'])\n",
    "plt.show\n",
    "     "
   ]
  },
  {
   "attachments": {},
   "cell_type": "markdown",
   "metadata": {},
   "source": [
    "* Jika dilihat pakai diagram batang diatas,  nampak tidak jelas karena memiliki n values di sumbu x \n",
    "yang cukup banyak\n",
    "* Solusi nya pakai data viz lain yaitu histogram\n",
    "* Ada data outliers"
   ]
  },
  {
   "cell_type": "code",
   "execution_count": 50,
   "metadata": {},
   "outputs": [
    {
     "data": {
      "image/png": "[encoded data removed]",
      "text/plain": [
       "<Figure size 1000x600 with 2 Axes>"
      ]
     },
     "metadata": {},
     "output_type": "display_data"
    }
   ],
   "source": [
    "# Histogram Luas Tanah\n",
    "f = plt.figure(figsize=(12,4))\n",
    "\n",
    "f.add_subplot(1,2,1)\n",
    "df['bangunan'].plot(kind='hist', figsize=(10, 6), bins=50)\n",
    "  # plt.title('Luas Tanah\\n', size=16)\n",
    "plt.ylabel('\\ncount', size=14)\n",
    "plt.xlabel('\\nLuas Bangunan [m2]', size=14)\n",
    "\n",
    "f.add_subplot(1,2,2)\n",
    "plt.boxplot(df['bangunan'])\n",
    "plt.show()"
   ]
  },
  {
   "cell_type": "code",
   "execution_count": 51,
   "metadata": {},
   "outputs": [
    {
     "data": {
      "image/png": "[encoded data removed]",
      "text/plain": [
       "<Figure size 1000x600 with 2 Axes>"
      ]
     },
     "metadata": {},
     "output_type": "display_data"
    }
   ],
   "source": [
    "# Histogram Luas Tanah / lahan\n",
    "f = plt.figure(figsize=(12,4))\n",
    "\n",
    "f.add_subplot(1,2,1)\n",
    "df['lahan'].plot(kind='hist', figsize=(10, 6), bins=50)\n",
    "\n",
    "plt.ylabel('\\ncount', size=14)\n",
    "plt.xlabel('\\nLuas Tanah [m2]', size=14)\n",
    "\n",
    "f.add_subplot(1,2,2)\n",
    "plt.boxplot(df['lahan'])\n",
    "plt.show()"
   ]
  },
  {
   "attachments": {},
   "cell_type": "markdown",
   "metadata": {},
   "source": [
    "- Data banyak memiliki outliers"
   ]
  },
  {
   "cell_type": "code",
   "execution_count": 52,
   "metadata": {},
   "outputs": [
    {
     "data": {
      "text/plain": [
       "array([ 3,  2,  7,  4, 13,  6,  5,  9,  8, 23,  1, 12, 15, 11, 10, 18,  0,\n",
       "       24, 37, 16, 47])"
      ]
     },
     "execution_count": 52,
     "metadata": {},
     "output_type": "execute_result"
    }
   ],
   "source": [
    "df[\"kamar\"].unique()"
   ]
  },
  {
   "cell_type": "code",
   "execution_count": 53,
   "metadata": {},
   "outputs": [
    {
     "data": {
      "text/plain": [
       "array([   84,    71,    72,    60,   114,    80,   620,   276,   100,\n",
       "         120,    35,    70,    50,    78,    69,   125,   110,   421,\n",
       "          40,    65,    47,   342,    55,   260,   160,   254,    81,\n",
       "          90,    92,    59,   150,    62,    36,   381,    37,    63,\n",
       "         167,   148,   193,    66,   118,   126,    56,    41,   177,\n",
       "         344,   278,     0,   215,   179,   264,   500,    83,   155,\n",
       "          91,   320,   290,   300,   127,   128,   189,   102,   105,\n",
       "         385,   112,   158,    96,    54,   130,   830,    34,   154,\n",
       "         226,    88,    97,   450,    98,    45,   360,   190,   144,\n",
       "          75,   380,   642,   255,  1170,    43,    57,   119,    95,\n",
       "         140,    89,   267,    61,   108,   200,   210,   319,   223,\n",
       "         233,   240,   212,   414,   411,    30,   161,   288,   152,\n",
       "         136,   375,   861,   543,   180,   420,   204,   350,   170,\n",
       "         477,   172,   588,    67,   207,   117,   387,   230,   262,\n",
       "         187,   197,   202,   106,   280,   216,   211,   251,   176,\n",
       "         198,   104,   252,    99,   649,   427,   235,   238,   156,\n",
       "         700,   292,   122,   165,   257,   358,   145,   175,   224,\n",
       "         208,   214,   135,   184,   162,   196,   115,   448,   250,\n",
       "         242,   299,   458,  1000,   400,   168,   905,    77,    85,\n",
       "         315,   399,   157,   502,   143,   467,   475,   232,   568,\n",
       "         123,    58,   164,   283,   294,   635,   291,   440,    86,\n",
       "         220,   600,   972,   374,   225,   111,   369,   347,   107,\n",
       "         413,   494,    94,   295,   907,   142,    64,   531,   185,\n",
       "         417,   550,   218,  1540,   191,    51,   239,   352,   480,\n",
       "         101,   398,   761,   410,   800,   580,   134,   465,   303,\n",
       "         178,   900,   390,   282,   174,   765,   132,   525,   301,\n",
       "         353,   309,   221,   129,   286,   298,    74,   743,   396,\n",
       "         138,   248,   182,  3800,   689,  1036,   284,     5,    73,\n",
       "         163,   146,    93,   166,   489,   109,   188,    76,   261,\n",
       "          48,    87,   183,   222,   270,   147,   246,   586,   293,\n",
       "         798,   970,   306,   219,   124,   893,   679,   113,    68,\n",
       "         334,   573,   741,   153,   892,   476,  1389,   330,   567,\n",
       "         268,   606,   461,   510,   511,   373,   803,   624,  1526,\n",
       "         195,   312,   672,   217,  2200,  4015,  2100,   512,   850,\n",
       "         310,  1074,  8000,  1236,    49,    82,   439,   478,   354,\n",
       "        1034,   898,   540,   103,   386,   351,  2022,   355,   308,\n",
       "         181,   116,   372,   285,   371,   681,   229,   925,   203,\n",
       "         133, 15000,   526,   335,   169,   365,   314,   469,   392,\n",
       "        1400,   988,  1444,   564,   640,   860,   470,   750,   890,\n",
       "         415,   514,   524,    46,   734,   605,   473,   434,   331,\n",
       "         490,   536,   318])"
      ]
     },
     "execution_count": 53,
     "metadata": {},
     "output_type": "execute_result"
    }
   ],
   "source": [
    "df[\"lahan\"].unique()"
   ]
  },
  {
   "cell_type": "code",
   "execution_count": 54,
   "metadata": {},
   "outputs": [
    {
     "data": {
      "text/plain": [
       "array([  75,   70,   36,   60,   90,   48,  200,  350,   30,  670,  100,\n",
       "         65,   37,   21,   80,   45,   49,   40,   50,  140,  150,  450,\n",
       "        170,   55,   73,   61,  315,  120,  110,   83,  250,   56,   38,\n",
       "         77,   58,   68,  240,   98,  324,  101,  300,   86,  230,  320,\n",
       "         34,  212,   43,  650,  135,   94,   54,   72,  260,  196,  180,\n",
       "        123, 1085,   42,  124,   27,  400,  800,  115,  149,  241,   52,\n",
       "         29,  126,  128,  160, 1500,   35,  125,   88,   74,   62,  235,\n",
       "         78,  130,  147,  185,  470,  210,  411,  122,  340,  155,   39,\n",
       "        600,  227,  276,  280,  141,  144,  348,   96,  175,  220,   85,\n",
       "        129,  440,  190,  255,  237,  270,  127,  380,  376,  106,  159,\n",
       "         69,  550,  167,  422,   53,  330,  156,  142,  177,  133,   87,\n",
       "        290,  500,  214,  215,  269,  516,  213,  102,  114,  116,  171,\n",
       "        317,  197,   81,  750,  323,   51,  145,  248,  325,  154,  420,\n",
       "         89,  294,  216,  132,   47,  192,  136,  242,  745,  195,  546,\n",
       "        148, 1200,   97,  275,  146,  224,   41,   95,  112,  236,   59,\n",
       "        360,  104,  460,   66,  377,  295,  165,  336,  331,  131,  158,\n",
       "        244,  117, 1300,  176,   63,  620,  365,  105,  335,   64,  900,\n",
       "        359,  265,  232,  370,  580, 1000, 1850,  225,  205,    0,  310,\n",
       "        134,    1,  204,  535,  701,  432,   84,   82,  404,  288,   71,\n",
       "         10, 1400,  245,  268,   32,   67,   57,  113,  187,  700,  186,\n",
       "        419,  482,  286,   99,  277,  111,  108,  252,  510,  168,  329,\n",
       "        109,  223,  431,  363,  164])"
      ]
     },
     "execution_count": 54,
     "metadata": {},
     "output_type": "execute_result"
    }
   ],
   "source": [
    "df[\"bangunan\"].unique()"
   ]
  },
  {
   "cell_type": "code",
   "execution_count": 55,
   "metadata": {},
   "outputs": [
    {
     "name": "stdout",
     "output_type": "stream",
     "text": [
      "<class 'pandas.core.frame.DataFrame'>\n",
      "Int64Index: 1173 entries, 0 to 1467\n",
      "Data columns (total 4 columns):\n",
      " #   Column    Non-Null Count  Dtype\n",
      "---  ------    --------------  -----\n",
      " 0   kamar     1173 non-null   int64\n",
      " 1   bangunan  1173 non-null   int64\n",
      " 2   lahan     1173 non-null   int64\n",
      " 3   harga     1173 non-null   int64\n",
      "dtypes: int64(4)\n",
      "memory usage: 45.8 KB\n"
     ]
    }
   ],
   "source": [
    "# Buang data yang ga masuk akal, atau sesuai kebutuhan kita\n",
    "mask_kamar = df[\"kamar\"] < 5\n",
    "mask_LT = df[\"lahan\"] < 1000\n",
    "mask_LB = df[\"bangunan\"] < 1000\n",
    "\n",
    "# Buat subset baru\n",
    "df = df[mask_kamar & mask_LT & mask_LB]\n",
    "df.info()"
   ]
  },
  {
   "attachments": {},
   "cell_type": "markdown",
   "metadata": {},
   "source": [
    "### Buat visalisasi pie chart untuk membuat perbedaan type properti"
   ]
  },
  {
   "cell_type": "code",
   "execution_count": 56,
   "metadata": {},
   "outputs": [
    {
     "data": {
      "text/plain": [
       "([<matplotlib.patches.Wedge at 0x7fe858af4e20>,\n",
       "  <matplotlib.patches.Wedge at 0x7fe858af4d30>,\n",
       "  <matplotlib.patches.Wedge at 0x7fe858b10dc0>],\n",
       " [Text(0.49557961414786905, 0.98203912653267, 'Keluarga Kecil'),\n",
       "  Text(-1.0695897293404308, -0.2568614624451552, 'Keluarga Menengah'),\n",
       "  Text(0.711195337802362, -0.8391669628197862, 'Kelaurga Besar')],\n",
       " [Text(0.2703161531715649, 0.5356577053814563, '35%'),\n",
       "  Text(-0.583412579640235, -0.1401062522428119, '37%'),\n",
       "  Text(0.3879247297103792, -0.45772743426533785, '28%')])"
      ]
     },
     "execution_count": 56,
     "metadata": {},
     "output_type": "execute_result"
    },
    {
     "data": {
      "image/png": "[encoded data removed]",
      "text/plain": [
       "<Figure size 640x480 with 1 Axes>"
      ]
     },
     "metadata": {},
     "output_type": "display_data"
    }
   ],
   "source": [
    "# Buat kategorisasi dari data jumlah kamarnya\n",
    "min_price = df['kamar'].min()\n",
    "max_price = df['kamar'].max()\n",
    "q = df['kamar'].quantile([.25, .5, .75])\n",
    "q\n",
    "\n",
    "kmr_kcl = df.loc[df['kamar'] <= q[0.25]]\n",
    "kmr_mng = df.loc[(df['kamar'] > q[0.25]) & (df['kamar'] <= q[0.50])]\n",
    "kmr_bsr = df.loc[df['kamar'] > q[0.50]]\n",
    "\n",
    "plt.pie([len(kmr_kcl), \n",
    "         len(kmr_mng), \n",
    "         len(kmr_bsr)], \n",
    "        labels = ['Keluarga Kecil', 'Keluarga Menengah', 'Kelaurga Besar'], \n",
    "        autopct='%.0f%%')"
   ]
  },
  {
   "cell_type": "code",
   "execution_count": 57,
   "metadata": {},
   "outputs": [
    {
     "data": {
      "text/plain": [
       "([<matplotlib.patches.Wedge at 0x7fe8586be8b0>,\n",
       "  <matplotlib.patches.Wedge at 0x7fe8586be7c0>,\n",
       "  <matplotlib.patches.Wedge at 0x7fe8398881f0>],\n",
       " [Text(0.7762535138198378, 0.7793782664934629, 'Cluster Minimalis'),\n",
       "  Text(-0.7927730346372328, 0.7625686300603199, ' Cluster Premium'),\n",
       "  Text(0.0191485789273279, -1.099833320064938, 'Cluster Exclusive')],\n",
       " [Text(0.4234110075380933, 0.4251154180873433, '25%'),\n",
       "  Text(-0.43242165525667237, 0.4159465254874472, '25%'),\n",
       "  Text(0.010444679414906127, -0.5999090836717842, '49%')])"
      ]
     },
     "execution_count": 57,
     "metadata": {},
     "output_type": "execute_result"
    },
    {
     "data": {
      "image/png": "[encoded data removed]",
      "text/plain": [
       "<Figure size 640x480 with 1 Axes>"
      ]
     },
     "metadata": {},
     "output_type": "display_data"
    }
   ],
   "source": [
    "# Buat kategorisasi dari data harga min, max, dan quantile, kemudian buat labeling dengan nama Cluster Minimalis, Cluster Premium, Cluster Exclusive\n",
    "min_price = df['harga'].min()\n",
    "max_price = df['harga'].max()\n",
    "q = df['harga'].quantile([.25, .5, .75])\n",
    "q\n",
    "\n",
    "low_price_house = df.loc[df[\"harga\"] <= q[0.25]]\n",
    "mid_price_house = df.loc[(df[\"harga\"] > q[0.25]) & (df[\"harga\"] <= q[0.50])]\n",
    "high_price_house = df.loc[df[\"harga\"] > q[0.50]]\n",
    "\n",
    "plt.pie([len(low_price_house), \n",
    "         len(mid_price_house), \n",
    "         len(high_price_house)], \n",
    "        labels = ['Cluster Minimalis', ' Cluster Premium', 'Cluster Exclusive'],\n",
    "        autopct='%.0f%%')"
   ]
  },
  {
   "cell_type": "code",
   "execution_count": 58,
   "metadata": {},
   "outputs": [
    {
     "name": "stderr",
     "output_type": "stream",
     "text": [
      "/var/folders/rl/656p168126zbnjcj2zhnms3r0000gn/T/ipykernel_41664/1415216549.py:2: FutureWarning: this method is deprecated in favour of `Styler.format(precision=..)`\n",
      "  df.corr().style.background_gradient().set_precision(2)\n"
     ]
    },
    {
     "data": {
      "text/html": [
       "<style type=\"text/css\">\n",
       "#T_0b4e7_row0_col0, #T_0b4e7_row1_col1, #T_0b4e7_row2_col2, #T_0b4e7_row3_col3 {\n",
       "  background-color: #023858;\n",
       "  color: #f1f1f1;\n",
       "}\n",
       "#T_0b4e7_row0_col1, #T_0b4e7_row0_col2, #T_0b4e7_row0_col3, #T_0b4e7_row3_col0 {\n",
       "  background-color: #fff7fb;\n",
       "  color: #000000;\n",
       "}\n",
       "#T_0b4e7_row1_col0 {\n",
       "  background-color: #a1bbda;\n",
       "  color: #000000;\n",
       "}\n",
       "#T_0b4e7_row1_col2 {\n",
       "  background-color: #4c99c5;\n",
       "  color: #f1f1f1;\n",
       "}\n",
       "#T_0b4e7_row1_col3 {\n",
       "  background-color: #69a5cc;\n",
       "  color: #f1f1f1;\n",
       "}\n",
       "#T_0b4e7_row2_col0 {\n",
       "  background-color: #d9d8ea;\n",
       "  color: #000000;\n",
       "}\n",
       "#T_0b4e7_row2_col1 {\n",
       "  background-color: #86b0d3;\n",
       "  color: #000000;\n",
       "}\n",
       "#T_0b4e7_row2_col3 {\n",
       "  background-color: #2081b9;\n",
       "  color: #f1f1f1;\n",
       "}\n",
       "#T_0b4e7_row3_col1 {\n",
       "  background-color: #d8d7e9;\n",
       "  color: #000000;\n",
       "}\n",
       "#T_0b4e7_row3_col2 {\n",
       "  background-color: #4295c3;\n",
       "  color: #f1f1f1;\n",
       "}\n",
       "</style>\n",
       "<table id=\"T_0b4e7\">\n",
       "  <thead>\n",
       "    <tr>\n",
       "      <th class=\"blank level0\" >&nbsp;</th>\n",
       "      <th id=\"T_0b4e7_level0_col0\" class=\"col_heading level0 col0\" >kamar</th>\n",
       "      <th id=\"T_0b4e7_level0_col1\" class=\"col_heading level0 col1\" >bangunan</th>\n",
       "      <th id=\"T_0b4e7_level0_col2\" class=\"col_heading level0 col2\" >lahan</th>\n",
       "      <th id=\"T_0b4e7_level0_col3\" class=\"col_heading level0 col3\" >harga</th>\n",
       "    </tr>\n",
       "  </thead>\n",
       "  <tbody>\n",
       "    <tr>\n",
       "      <th id=\"T_0b4e7_level0_row0\" class=\"row_heading level0 row0\" >kamar</th>\n",
       "      <td id=\"T_0b4e7_row0_col0\" class=\"data row0 col0\" >1.00</td>\n",
       "      <td id=\"T_0b4e7_row0_col1\" class=\"data row0 col1\" >0.54</td>\n",
       "      <td id=\"T_0b4e7_row0_col2\" class=\"data row0 col2\" >0.41</td>\n",
       "      <td id=\"T_0b4e7_row0_col3\" class=\"data row0 col3\" >0.25</td>\n",
       "    </tr>\n",
       "    <tr>\n",
       "      <th id=\"T_0b4e7_level0_row1\" class=\"row_heading level0 row1\" >bangunan</th>\n",
       "      <td id=\"T_0b4e7_row1_col0\" class=\"data row1 col0\" >0.54</td>\n",
       "      <td id=\"T_0b4e7_row1_col1\" class=\"data row1 col1\" >1.00</td>\n",
       "      <td id=\"T_0b4e7_row1_col2\" class=\"data row1 col2\" >0.75</td>\n",
       "      <td id=\"T_0b4e7_row1_col3\" class=\"data row1 col3\" >0.64</td>\n",
       "    </tr>\n",
       "    <tr>\n",
       "      <th id=\"T_0b4e7_level0_row2\" class=\"row_heading level0 row2\" >lahan</th>\n",
       "      <td id=\"T_0b4e7_row2_col0\" class=\"data row2 col0\" >0.41</td>\n",
       "      <td id=\"T_0b4e7_row2_col1\" class=\"data row2 col1\" >0.75</td>\n",
       "      <td id=\"T_0b4e7_row2_col2\" class=\"data row2 col2\" >1.00</td>\n",
       "      <td id=\"T_0b4e7_row2_col3\" class=\"data row2 col3\" >0.76</td>\n",
       "    </tr>\n",
       "    <tr>\n",
       "      <th id=\"T_0b4e7_level0_row3\" class=\"row_heading level0 row3\" >harga</th>\n",
       "      <td id=\"T_0b4e7_row3_col0\" class=\"data row3 col0\" >0.25</td>\n",
       "      <td id=\"T_0b4e7_row3_col1\" class=\"data row3 col1\" >0.64</td>\n",
       "      <td id=\"T_0b4e7_row3_col2\" class=\"data row3 col2\" >0.76</td>\n",
       "      <td id=\"T_0b4e7_row3_col3\" class=\"data row3 col3\" >1.00</td>\n",
       "    </tr>\n",
       "  </tbody>\n",
       "</table>\n"
      ],
      "text/plain": [
       "<pandas.io.formats.style.Styler at 0x7fe8586be820>"
      ]
     },
     "execution_count": 58,
     "metadata": {},
     "output_type": "execute_result"
    }
   ],
   "source": [
    "# Mengetahui nilai korelasi independent dan dependent variable\n",
    "df.corr().style.background_gradient().set_precision(2)"
   ]
  },
  {
   "attachments": {},
   "cell_type": "markdown",
   "metadata": {},
   "source": [
    "```\n",
    "Urutan feature yang mempengaruhi harga properti di bandung\n",
    "*  Lahan\n",
    "*  Bangunan\n",
    "*  Kamar\n",
    "```"
   ]
  },
  {
   "attachments": {},
   "cell_type": "markdown",
   "metadata": {},
   "source": [
    "### Setelah mengetahui karakteristik data, kita lanjut modeling"
   ]
  },
  {
   "cell_type": "code",
   "execution_count": 59,
   "metadata": {},
   "outputs": [
    {
     "name": "stdout",
     "output_type": "stream",
     "text": [
      "coef: [-4.33428397e+08  8.25901653e+06  1.51779774e+07]\n",
      "intercept: -156213073.61740184\n"
     ]
    }
   ],
   "source": [
    "# Pertama, buat variabel x dan y\n",
    "x = df.drop(columns='harga')# kamar, lb, lt, \n",
    "y = df['harga'] # harga\n",
    "\n",
    "# 1140--> 80%  --> 912 data training\n",
    "# 228 --> 20%--> data testing\n",
    "# Kedua, split data training dan testing dengan porsi 80:20\n",
    "x_train, x_test, y_train, y_test = train_test_split(x, y, test_size=0.2, random_state=4)\n",
    "\n",
    "# Ketiga, buat model regresi linear\n",
    "lin_reg = LinearRegression()\n",
    "\n",
    "# Keempat, train model menggunakan data training yang sudah di split\n",
    "lin_reg.fit(x_train, y_train)\n",
    "\n",
    "# Kelima, cari tau nilai slope/koefisien (m) dan intercept (b).\n",
    "print(\"coef:\", lin_reg.coef_)\n",
    "print(\"intercept:\", lin_reg.intercept_)"
   ]
  },
  {
   "cell_type": "code",
   "execution_count": 60,
   "metadata": {},
   "outputs": [
    {
     "data": {
      "text/html": [
       "<div>\n",
       "<style scoped>\n",
       "    .dataframe tbody tr th:only-of-type {\n",
       "        vertical-align: middle;\n",
       "    }\n",
       "\n",
       "    .dataframe tbody tr th {\n",
       "        vertical-align: top;\n",
       "    }\n",
       "\n",
       "    .dataframe thead th {\n",
       "        text-align: right;\n",
       "    }\n",
       "</style>\n",
       "<table border=\"1\" class=\"dataframe\">\n",
       "  <thead>\n",
       "    <tr style=\"text-align: right;\">\n",
       "      <th></th>\n",
       "      <th>kamar</th>\n",
       "      <th>bangunan</th>\n",
       "      <th>lahan</th>\n",
       "    </tr>\n",
       "    <tr>\n",
       "      <th>harga</th>\n",
       "      <th></th>\n",
       "      <th></th>\n",
       "      <th></th>\n",
       "    </tr>\n",
       "  </thead>\n",
       "  <tbody>\n",
       "    <tr>\n",
       "      <th>65000000</th>\n",
       "      <td>2</td>\n",
       "      <td>21</td>\n",
       "      <td>35</td>\n",
       "    </tr>\n",
       "    <tr>\n",
       "      <th>100000000</th>\n",
       "      <td>2</td>\n",
       "      <td>30</td>\n",
       "      <td>40</td>\n",
       "    </tr>\n",
       "    <tr>\n",
       "      <th>115000000</th>\n",
       "      <td>2</td>\n",
       "      <td>36</td>\n",
       "      <td>60</td>\n",
       "    </tr>\n",
       "    <tr>\n",
       "      <th>130000000</th>\n",
       "      <td>2</td>\n",
       "      <td>30</td>\n",
       "      <td>50</td>\n",
       "    </tr>\n",
       "    <tr>\n",
       "      <th>135000000</th>\n",
       "      <td>2</td>\n",
       "      <td>36</td>\n",
       "      <td>48</td>\n",
       "    </tr>\n",
       "    <tr>\n",
       "      <th>...</th>\n",
       "      <td>...</td>\n",
       "      <td>...</td>\n",
       "      <td>...</td>\n",
       "    </tr>\n",
       "    <tr>\n",
       "      <th>22000000000</th>\n",
       "      <td>4</td>\n",
       "      <td>177</td>\n",
       "      <td>679</td>\n",
       "    </tr>\n",
       "    <tr>\n",
       "      <th>34000000000</th>\n",
       "      <td>0</td>\n",
       "      <td>500</td>\n",
       "      <td>850</td>\n",
       "    </tr>\n",
       "    <tr>\n",
       "      <th>38000000000</th>\n",
       "      <td>4</td>\n",
       "      <td>600</td>\n",
       "      <td>800</td>\n",
       "    </tr>\n",
       "    <tr>\n",
       "      <th>40000000000</th>\n",
       "      <td>3</td>\n",
       "      <td>600</td>\n",
       "      <td>861</td>\n",
       "    </tr>\n",
       "    <tr>\n",
       "      <th>43000000000</th>\n",
       "      <td>4</td>\n",
       "      <td>650</td>\n",
       "      <td>900</td>\n",
       "    </tr>\n",
       "  </tbody>\n",
       "</table>\n",
       "<p>429 rows × 3 columns</p>\n",
       "</div>"
      ],
      "text/plain": [
       "             kamar  bangunan  lahan\n",
       "harga                              \n",
       "65000000         2        21     35\n",
       "100000000        2        30     40\n",
       "115000000        2        36     60\n",
       "130000000        2        30     50\n",
       "135000000        2        36     48\n",
       "...            ...       ...    ...\n",
       "22000000000      4       177    679\n",
       "34000000000      0       500    850\n",
       "38000000000      4       600    800\n",
       "40000000000      3       600    861\n",
       "43000000000      4       650    900\n",
       "\n",
       "[429 rows x 3 columns]"
      ]
     },
     "execution_count": 60,
     "metadata": {},
     "output_type": "execute_result"
    }
   ],
   "source": [
    "df = df.groupby(\"harga\")\n",
    "df.first()"
   ]
  },
  {
   "cell_type": "code",
   "execution_count": 61,
   "metadata": {},
   "outputs": [
    {
     "data": {
      "text/html": [
       "<div>\n",
       "<style scoped>\n",
       "    .dataframe tbody tr th:only-of-type {\n",
       "        vertical-align: middle;\n",
       "    }\n",
       "\n",
       "    .dataframe tbody tr th {\n",
       "        vertical-align: top;\n",
       "    }\n",
       "\n",
       "    .dataframe thead th {\n",
       "        text-align: right;\n",
       "    }\n",
       "</style>\n",
       "<table border=\"1\" class=\"dataframe\">\n",
       "  <thead>\n",
       "    <tr style=\"text-align: right;\">\n",
       "      <th></th>\n",
       "      <th>features</th>\n",
       "      <th>coef_value</th>\n",
       "    </tr>\n",
       "  </thead>\n",
       "  <tbody>\n",
       "    <tr>\n",
       "      <th>0</th>\n",
       "      <td>kamar</td>\n",
       "      <td>-4.334284e+08</td>\n",
       "    </tr>\n",
       "    <tr>\n",
       "      <th>1</th>\n",
       "      <td>bangunan</td>\n",
       "      <td>8.259017e+06</td>\n",
       "    </tr>\n",
       "    <tr>\n",
       "      <th>2</th>\n",
       "      <td>lahan</td>\n",
       "      <td>1.517798e+07</td>\n",
       "    </tr>\n",
       "  </tbody>\n",
       "</table>\n",
       "</div>"
      ],
      "text/plain": [
       "   features    coef_value\n",
       "0     kamar -4.334284e+08\n",
       "1  bangunan  8.259017e+06\n",
       "2     lahan  1.517798e+07"
      ]
     },
     "execution_count": 61,
     "metadata": {},
     "output_type": "execute_result"
    }
   ],
   "source": [
    "coef_dict = {\n",
    "    'features': x.columns,\n",
    "    'coef_value' : lin_reg.coef_\n",
    "}\n",
    "coef = pd.DataFrame(coef_dict, columns=['features', 'coef_value'])\n",
    "coef"
   ]
  },
  {
   "attachments": {},
   "cell_type": "markdown",
   "metadata": {},
   "source": [
    "```\n",
    "Y = -4.3x1 + 14477300.94x2 + 11010915.01x3\n",
    "```"
   ]
  },
  {
   "cell_type": "code",
   "execution_count": 62,
   "metadata": {},
   "outputs": [],
   "source": [
    "y_pred = lin_reg.predict(x_test)"
   ]
  },
  {
   "cell_type": "code",
   "execution_count": 63,
   "metadata": {},
   "outputs": [
    {
     "data": {
      "text/plain": [
       "0.7317353135318807"
      ]
     },
     "execution_count": 63,
     "metadata": {},
     "output_type": "execute_result"
    }
   ],
   "source": [
    "#Keenam, kita cari tahu accuracy score dari model kita menggunakan testing data yang sudah displit\n",
    "lin_reg.score(x_test, y_test)"
   ]
  },
  {
   "cell_type": "code",
   "execution_count": 64,
   "metadata": {},
   "outputs": [
    {
     "name": "stdout",
     "output_type": "stream",
     "text": [
      "Rp 2,244,708,725.41\n"
     ]
    },
    {
     "name": "stderr",
     "output_type": "stream",
     "text": [
      "/Users/renyoktavianti/miniconda3/lib/python3.9/site-packages/sklearn/base.py:439: UserWarning: X does not have valid feature names, but LinearRegression was fitted with feature names\n",
      "  warnings.warn(\n"
     ]
    }
   ],
   "source": [
    "# Hands On Prediction dengan custom parameter features \n",
    "# 1. kamar = 2\n",
    "# 2. Luas bangunan = 120\n",
    "# 3. Luas Tanah = 150\n",
    "predict = lin_reg.predict([[2,120,150]])\n",
    "predict = round(float(predict),2)\n",
    "\n",
    "prediksi = \"{:,}\".format(predict)\n",
    "print(\"Rp\", prediksi)"
   ]
  }
 ],
 "metadata": {
  "kernelspec": {
   "display_name": "base",
   "language": "python",
   "name": "python3"
  },
  "language_info": {
   "codemirror_mode": {
    "name": "ipython",
    "version": 3
   },
   "file_extension": ".py",
   "mimetype": "text/x-python",
   "name": "python",
   "nbconvert_exporter": "python",
   "pygments_lexer": "ipython3",
   "version": "3.9.15"
  },
  "orig_nbformat": 4,
  "vscode": {
   "interpreter": {
    "hash": "30c09491f87e3dd016f780d88cc71ddc8784020737d635e0d66e623df59197b1"
   }
  }
 },
 "nbformat": 4,
 "nbformat_minor": 2
}
